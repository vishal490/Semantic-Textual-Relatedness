{
 "cells": [
  {
   "cell_type": "code",
   "execution_count": 1,
   "id": "d57c12ed-7959-4151-a8db-ef41f4e82faf",
   "metadata": {},
   "outputs": [],
   "source": [
    "import os\n",
    "import pandas as pd"
   ]
  },
  {
   "cell_type": "markdown",
   "id": "372d8002-c8d2-416c-b9ab-b0ffc1ebacef",
   "metadata": {},
   "source": [
    "## Load the datasets and combine them into a single dataframe"
   ]
  },
  {
   "cell_type": "code",
   "execution_count": 2,
   "id": "3a167df3-e446-4870-ae3f-ff4f559b6a40",
   "metadata": {},
   "outputs": [
    {
     "name": "stdout",
     "output_type": "stream",
     "text": [
      "amh_dev.csv    ary_train.csv  hau_dev.csv    mar_train.csv\n",
      "amh_train.csv  eng_dev.csv    hau_train.csv  tel_dev.csv\n",
      "ary_dev.csv    eng_train.csv  mar_dev.csv    tel_train.csv\n"
     ]
    }
   ],
   "source": [
    "!ls ./dataset/Downloaded/"
   ]
  },
  {
   "cell_type": "code",
   "execution_count": 3,
   "id": "4fea629c-09bb-4fd7-b990-02f232aa0c5a",
   "metadata": {},
   "outputs": [],
   "source": [
    "base_path = \"./dataset/Downloaded\""
   ]
  },
  {
   "cell_type": "code",
   "execution_count": 4,
   "id": "08e9ef9a-2696-48b1-9259-e07c65f8dab2",
   "metadata": {
    "scrolled": true
   },
   "outputs": [
    {
     "name": "stdout",
     "output_type": "stream",
     "text": [
      "eng train\n",
      "tel train\n",
      "tel dev\n",
      "amh train\n",
      "hau train\n",
      "eng dev\n",
      "ary train\n",
      "hau dev\n",
      "ary dev\n",
      "mar dev\n",
      "mar train\n",
      "amh dev\n"
     ]
    }
   ],
   "source": [
    "combine_data = pd.DataFrame()\n",
    "\n",
    "for file in os.listdir(base_path):\n",
    "\n",
    "    lang, type = file.split(\".\")[0].split(\"_\")\n",
    "    print(lang, type)\n",
    "    data = pd.read_csv(f\"{base_path}/{file}\")\n",
    "\n",
    "    processed = False\n",
    "    try:\n",
    "        data[\"Text1\"], data[\"Text2\"] = list(zip(*data.Text.apply(lambda ele: ele.split(\"\\t\")).values))\n",
    "        processed = True\n",
    "    except Exception:\n",
    "        pass\n",
    "        \n",
    "    try:\n",
    "        if not processed:\n",
    "            data[\"Text1\"], data[\"Text2\"] = list(zip(*data.Text.apply(lambda ele: ele.split(\"\\n\")).values))\n",
    "            processed = True\n",
    "    except Exception:\n",
    "        pass\n",
    "\n",
    "    # try:\n",
    "    if not processed:\n",
    "        data[\"Text1\"], data[\"Text2\"] = list(zip(*data.Text.apply(lambda ele: ele.split(\"\\\\n\")).values))\n",
    "        \n",
    "    data.drop(columns=[\"Text\", \"PairID\"], inplace=True)\n",
    "\n",
    "    data[\"Type\"] = [type] * data.shape[0]\n",
    "    data[\"Lang\"] = [lang] * data.shape[0]\n",
    "\n",
    "    if type == \"dev\":\n",
    "        # If its dev we wont have the data labels, give it as zero else use the scores provided\n",
    "        data[\"Scores\"] = [0] * data.shape[0]\n",
    "    else:\n",
    "        data[\"Scores\"] = data[\"Score\"].values\n",
    "        data.drop(columns = [\"Score\"], inplace=True)\n",
    "\n",
    "    combine_data = pd.concat((combine_data, data))\n",
    "\n",
    "combine_data.reset_index(inplace=True, drop=True)"
   ]
  },
  {
   "cell_type": "code",
   "execution_count": 6,
   "id": "2107a83f-638b-458b-9b12-961eb3aca56c",
   "metadata": {},
   "outputs": [
    {
     "data": {
      "text/html": [
       "<div>\n",
       "<style scoped>\n",
       "    .dataframe tbody tr th:only-of-type {\n",
       "        vertical-align: middle;\n",
       "    }\n",
       "\n",
       "    .dataframe tbody tr th {\n",
       "        vertical-align: top;\n",
       "    }\n",
       "\n",
       "    .dataframe thead th {\n",
       "        text-align: right;\n",
       "    }\n",
       "</style>\n",
       "<table border=\"1\" class=\"dataframe\">\n",
       "  <thead>\n",
       "    <tr style=\"text-align: right;\">\n",
       "      <th></th>\n",
       "      <th>Text1</th>\n",
       "      <th>Text2</th>\n",
       "      <th>Type</th>\n",
       "      <th>Lang</th>\n",
       "      <th>Scores</th>\n",
       "    </tr>\n",
       "  </thead>\n",
       "  <tbody>\n",
       "    <tr>\n",
       "      <th>0</th>\n",
       "      <td>It that happens, just pull the plug.</td>\n",
       "      <td>if that ever happens, just pull the plug.</td>\n",
       "      <td>train</td>\n",
       "      <td>eng</td>\n",
       "      <td>1.0</td>\n",
       "    </tr>\n",
       "    <tr>\n",
       "      <th>1</th>\n",
       "      <td>A black dog running through water.</td>\n",
       "      <td>A black dog is running through some water.</td>\n",
       "      <td>train</td>\n",
       "      <td>eng</td>\n",
       "      <td>1.0</td>\n",
       "    </tr>\n",
       "    <tr>\n",
       "      <th>2</th>\n",
       "      <td>I've been searchingthe entire abbey for you.</td>\n",
       "      <td>I'm looking for you all over the abbey.</td>\n",
       "      <td>train</td>\n",
       "      <td>eng</td>\n",
       "      <td>1.0</td>\n",
       "    </tr>\n",
       "    <tr>\n",
       "      <th>3</th>\n",
       "      <td>If he is good looking and has a good personali...</td>\n",
       "      <td>If he's good looking, and a good personality, ...</td>\n",
       "      <td>train</td>\n",
       "      <td>eng</td>\n",
       "      <td>1.0</td>\n",
       "    </tr>\n",
       "    <tr>\n",
       "      <th>4</th>\n",
       "      <td>She does not hate you, she is just annoyed wit...</td>\n",
       "      <td>She doesn't hate you, she is just annoyed.</td>\n",
       "      <td>train</td>\n",
       "      <td>eng</td>\n",
       "      <td>1.0</td>\n",
       "    </tr>\n",
       "    <tr>\n",
       "      <th>...</th>\n",
       "      <td>...</td>\n",
       "      <td>...</td>\n",
       "      <td>...</td>\n",
       "      <td>...</td>\n",
       "      <td>...</td>\n",
       "    </tr>\n",
       "    <tr>\n",
       "      <th>12698</th>\n",
       "      <td>ይሖዋ “የእውነት አምላክ ” ነው ።</td>\n",
       "      <td>እንዲህ ማድረግ የሚችለው ደግሞ ይሖዋ አምላክ ብቻ ነው ።</td>\n",
       "      <td>dev</td>\n",
       "      <td>amh</td>\n",
       "      <td>0.0</td>\n",
       "    </tr>\n",
       "    <tr>\n",
       "      <th>12699</th>\n",
       "      <td>ክረምትና በጋ በምስራቅ አፍሪካ ።</td>\n",
       "      <td>በብዛት በምስራቅ አፍሪካ ይገኛሉ ።</td>\n",
       "      <td>dev</td>\n",
       "      <td>amh</td>\n",
       "      <td>0.0</td>\n",
       "    </tr>\n",
       "    <tr>\n",
       "      <th>12700</th>\n",
       "      <td>ይህን ያህል እርግጠኛ እንዲሆን ያደረገው ምንድን ነው ?</td>\n",
       "      <td>ደስተኛ እንዲሆን አስተዋጽኦ ያደረገው ምንድን ነው ?</td>\n",
       "      <td>dev</td>\n",
       "      <td>amh</td>\n",
       "      <td>0.0</td>\n",
       "    </tr>\n",
       "    <tr>\n",
       "      <th>12701</th>\n",
       "      <td>ያ የበላ ሰው ከሕዝቡ መካከል ተለይቶ ይጠፋልና ።</td>\n",
       "      <td>መንግስት ግን ፣ “ለእርዳታ የተመደበ ገንዘብ ነው” ሊል ይችላል ።</td>\n",
       "      <td>dev</td>\n",
       "      <td>amh</td>\n",
       "      <td>0.0</td>\n",
       "    </tr>\n",
       "    <tr>\n",
       "      <th>12702</th>\n",
       "      <td>በሌላ በኩል የላቀ የሻምፒዮናነነት ፉክክር እንደሚደረግበት የሚጠበቀው 20...</td>\n",
       "      <td>20ኛው ፕሪሚዬር ሊግ የማንችስተር ነው ።</td>\n",
       "      <td>dev</td>\n",
       "      <td>amh</td>\n",
       "      <td>0.0</td>\n",
       "    </tr>\n",
       "  </tbody>\n",
       "</table>\n",
       "<p>12703 rows × 5 columns</p>\n",
       "</div>"
      ],
      "text/plain": [
       "                                                   Text1  \\\n",
       "0                   It that happens, just pull the plug.   \n",
       "1                     A black dog running through water.   \n",
       "2           I've been searchingthe entire abbey for you.   \n",
       "3      If he is good looking and has a good personali...   \n",
       "4      She does not hate you, she is just annoyed wit...   \n",
       "...                                                  ...   \n",
       "12698                             ይሖዋ “የእውነት አምላክ ” ነው ።   \n",
       "12699                              ክረምትና በጋ በምስራቅ አፍሪካ ።   \n",
       "12700                ይህን ያህል እርግጠኛ እንዲሆን ያደረገው ምንድን ነው ?   \n",
       "12701                    ያ የበላ ሰው ከሕዝቡ መካከል ተለይቶ ይጠፋልና ።   \n",
       "12702  በሌላ በኩል የላቀ የሻምፒዮናነነት ፉክክር እንደሚደረግበት የሚጠበቀው 20...   \n",
       "\n",
       "                                                   Text2   Type Lang  Scores  \n",
       "0              if that ever happens, just pull the plug.  train  eng     1.0  \n",
       "1             A black dog is running through some water.  train  eng     1.0  \n",
       "2                I'm looking for you all over the abbey.  train  eng     1.0  \n",
       "3      If he's good looking, and a good personality, ...  train  eng     1.0  \n",
       "4             She doesn't hate you, she is just annoyed.  train  eng     1.0  \n",
       "...                                                  ...    ...  ...     ...  \n",
       "12698               እንዲህ ማድረግ የሚችለው ደግሞ ይሖዋ አምላክ ብቻ ነው ።    dev  amh     0.0  \n",
       "12699                             በብዛት በምስራቅ አፍሪካ ይገኛሉ ።    dev  amh     0.0  \n",
       "12700                  ደስተኛ እንዲሆን አስተዋጽኦ ያደረገው ምንድን ነው ?    dev  amh     0.0  \n",
       "12701         መንግስት ግን ፣ “ለእርዳታ የተመደበ ገንዘብ ነው” ሊል ይችላል ።    dev  amh     0.0  \n",
       "12702                         20ኛው ፕሪሚዬር ሊግ የማንችስተር ነው ።    dev  amh     0.0  \n",
       "\n",
       "[12703 rows x 5 columns]"
      ]
     },
     "execution_count": 6,
     "metadata": {},
     "output_type": "execute_result"
    }
   ],
   "source": [
    "combine_data"
   ]
  },
  {
   "cell_type": "code",
   "execution_count": 7,
   "id": "a9737abc-357e-4a57-ac03-701031b7b295",
   "metadata": {},
   "outputs": [
    {
     "data": {
      "text/plain": [
       "array(['eng', 'tel', 'amh', 'hau', 'ary', 'mar'], dtype=object)"
      ]
     },
     "execution_count": 7,
     "metadata": {},
     "output_type": "execute_result"
    }
   ],
   "source": [
    "combine_data.Lang.unique()"
   ]
  },
  {
   "cell_type": "code",
   "execution_count": 8,
   "id": "fa8e2835-b991-4509-81d9-316ce27b1e38",
   "metadata": {},
   "outputs": [
    {
     "data": {
      "text/html": [
       "<div>\n",
       "<style scoped>\n",
       "    .dataframe tbody tr th:only-of-type {\n",
       "        vertical-align: middle;\n",
       "    }\n",
       "\n",
       "    .dataframe tbody tr th {\n",
       "        vertical-align: top;\n",
       "    }\n",
       "\n",
       "    .dataframe thead th {\n",
       "        text-align: right;\n",
       "    }\n",
       "</style>\n",
       "<table border=\"1\" class=\"dataframe\">\n",
       "  <thead>\n",
       "    <tr style=\"text-align: right;\">\n",
       "      <th></th>\n",
       "      <th>Text1</th>\n",
       "      <th>Text2</th>\n",
       "      <th>Type</th>\n",
       "      <th>Lang</th>\n",
       "      <th>Scores</th>\n",
       "    </tr>\n",
       "  </thead>\n",
       "  <tbody>\n",
       "  </tbody>\n",
       "</table>\n",
       "</div>"
      ],
      "text/plain": [
       "Empty DataFrame\n",
       "Columns: [Text1, Text2, Type, Lang, Scores]\n",
       "Index: []"
      ]
     },
     "execution_count": 8,
     "metadata": {},
     "output_type": "execute_result"
    }
   ],
   "source": [
    "combine_data[combine_data.isna().any(axis=1)]"
   ]
  },
  {
   "cell_type": "code",
   "execution_count": 9,
   "id": "15a4933c-5fe5-4fc3-bf6c-41da156fe905",
   "metadata": {},
   "outputs": [
    {
     "data": {
      "text/html": [
       "<div>\n",
       "<style scoped>\n",
       "    .dataframe tbody tr th:only-of-type {\n",
       "        vertical-align: middle;\n",
       "    }\n",
       "\n",
       "    .dataframe tbody tr th {\n",
       "        vertical-align: top;\n",
       "    }\n",
       "\n",
       "    .dataframe thead th {\n",
       "        text-align: right;\n",
       "    }\n",
       "</style>\n",
       "<table border=\"1\" class=\"dataframe\">\n",
       "  <thead>\n",
       "    <tr style=\"text-align: right;\">\n",
       "      <th></th>\n",
       "      <th>Text1</th>\n",
       "      <th>Text2</th>\n",
       "      <th>Type</th>\n",
       "      <th>Lang</th>\n",
       "      <th>Scores</th>\n",
       "    </tr>\n",
       "  </thead>\n",
       "  <tbody>\n",
       "    <tr>\n",
       "      <th>0</th>\n",
       "      <td>It that happens, just pull the plug.</td>\n",
       "      <td>if that ever happens, just pull the plug.</td>\n",
       "      <td>train</td>\n",
       "      <td>eng</td>\n",
       "      <td>1.0</td>\n",
       "    </tr>\n",
       "    <tr>\n",
       "      <th>1</th>\n",
       "      <td>A black dog running through water.</td>\n",
       "      <td>A black dog is running through some water.</td>\n",
       "      <td>train</td>\n",
       "      <td>eng</td>\n",
       "      <td>1.0</td>\n",
       "    </tr>\n",
       "    <tr>\n",
       "      <th>2</th>\n",
       "      <td>I've been searchingthe entire abbey for you.</td>\n",
       "      <td>I'm looking for you all over the abbey.</td>\n",
       "      <td>train</td>\n",
       "      <td>eng</td>\n",
       "      <td>1.0</td>\n",
       "    </tr>\n",
       "    <tr>\n",
       "      <th>3</th>\n",
       "      <td>If he is good looking and has a good personali...</td>\n",
       "      <td>If he's good looking, and a good personality, ...</td>\n",
       "      <td>train</td>\n",
       "      <td>eng</td>\n",
       "      <td>1.0</td>\n",
       "    </tr>\n",
       "    <tr>\n",
       "      <th>4</th>\n",
       "      <td>She does not hate you, she is just annoyed wit...</td>\n",
       "      <td>She doesn't hate you, she is just annoyed.</td>\n",
       "      <td>train</td>\n",
       "      <td>eng</td>\n",
       "      <td>1.0</td>\n",
       "    </tr>\n",
       "    <tr>\n",
       "      <th>...</th>\n",
       "      <td>...</td>\n",
       "      <td>...</td>\n",
       "      <td>...</td>\n",
       "      <td>...</td>\n",
       "      <td>...</td>\n",
       "    </tr>\n",
       "    <tr>\n",
       "      <th>12698</th>\n",
       "      <td>ይሖዋ “የእውነት አምላክ ” ነው ።</td>\n",
       "      <td>እንዲህ ማድረግ የሚችለው ደግሞ ይሖዋ አምላክ ብቻ ነው ።</td>\n",
       "      <td>dev</td>\n",
       "      <td>amh</td>\n",
       "      <td>0.0</td>\n",
       "    </tr>\n",
       "    <tr>\n",
       "      <th>12699</th>\n",
       "      <td>ክረምትና በጋ በምስራቅ አፍሪካ ።</td>\n",
       "      <td>በብዛት በምስራቅ አፍሪካ ይገኛሉ ።</td>\n",
       "      <td>dev</td>\n",
       "      <td>amh</td>\n",
       "      <td>0.0</td>\n",
       "    </tr>\n",
       "    <tr>\n",
       "      <th>12700</th>\n",
       "      <td>ይህን ያህል እርግጠኛ እንዲሆን ያደረገው ምንድን ነው ?</td>\n",
       "      <td>ደስተኛ እንዲሆን አስተዋጽኦ ያደረገው ምንድን ነው ?</td>\n",
       "      <td>dev</td>\n",
       "      <td>amh</td>\n",
       "      <td>0.0</td>\n",
       "    </tr>\n",
       "    <tr>\n",
       "      <th>12701</th>\n",
       "      <td>ያ የበላ ሰው ከሕዝቡ መካከል ተለይቶ ይጠፋልና ።</td>\n",
       "      <td>መንግስት ግን ፣ “ለእርዳታ የተመደበ ገንዘብ ነው” ሊል ይችላል ።</td>\n",
       "      <td>dev</td>\n",
       "      <td>amh</td>\n",
       "      <td>0.0</td>\n",
       "    </tr>\n",
       "    <tr>\n",
       "      <th>12702</th>\n",
       "      <td>በሌላ በኩል የላቀ የሻምፒዮናነነት ፉክክር እንደሚደረግበት የሚጠበቀው 20...</td>\n",
       "      <td>20ኛው ፕሪሚዬር ሊግ የማንችስተር ነው ።</td>\n",
       "      <td>dev</td>\n",
       "      <td>amh</td>\n",
       "      <td>0.0</td>\n",
       "    </tr>\n",
       "  </tbody>\n",
       "</table>\n",
       "<p>12703 rows × 5 columns</p>\n",
       "</div>"
      ],
      "text/plain": [
       "                                                   Text1  \\\n",
       "0                   It that happens, just pull the plug.   \n",
       "1                     A black dog running through water.   \n",
       "2           I've been searchingthe entire abbey for you.   \n",
       "3      If he is good looking and has a good personali...   \n",
       "4      She does not hate you, she is just annoyed wit...   \n",
       "...                                                  ...   \n",
       "12698                             ይሖዋ “የእውነት አምላክ ” ነው ።   \n",
       "12699                              ክረምትና በጋ በምስራቅ አፍሪካ ።   \n",
       "12700                ይህን ያህል እርግጠኛ እንዲሆን ያደረገው ምንድን ነው ?   \n",
       "12701                    ያ የበላ ሰው ከሕዝቡ መካከል ተለይቶ ይጠፋልና ።   \n",
       "12702  በሌላ በኩል የላቀ የሻምፒዮናነነት ፉክክር እንደሚደረግበት የሚጠበቀው 20...   \n",
       "\n",
       "                                                   Text2   Type Lang  Scores  \n",
       "0              if that ever happens, just pull the plug.  train  eng     1.0  \n",
       "1             A black dog is running through some water.  train  eng     1.0  \n",
       "2                I'm looking for you all over the abbey.  train  eng     1.0  \n",
       "3      If he's good looking, and a good personality, ...  train  eng     1.0  \n",
       "4             She doesn't hate you, she is just annoyed.  train  eng     1.0  \n",
       "...                                                  ...    ...  ...     ...  \n",
       "12698               እንዲህ ማድረግ የሚችለው ደግሞ ይሖዋ አምላክ ብቻ ነው ።    dev  amh     0.0  \n",
       "12699                             በብዛት በምስራቅ አፍሪካ ይገኛሉ ።    dev  amh     0.0  \n",
       "12700                  ደስተኛ እንዲሆን አስተዋጽኦ ያደረገው ምንድን ነው ?    dev  amh     0.0  \n",
       "12701         መንግስት ግን ፣ “ለእርዳታ የተመደበ ገንዘብ ነው” ሊል ይችላል ።    dev  amh     0.0  \n",
       "12702                         20ኛው ፕሪሚዬር ሊግ የማንችስተር ነው ።    dev  amh     0.0  \n",
       "\n",
       "[12703 rows x 5 columns]"
      ]
     },
     "execution_count": 9,
     "metadata": {},
     "output_type": "execute_result"
    }
   ],
   "source": [
    "combine_data"
   ]
  },
  {
   "cell_type": "code",
   "execution_count": 23,
   "id": "f3d06350-5edb-4cc4-9a8f-38f93554c12f",
   "metadata": {},
   "outputs": [],
   "source": [
    "combine_data.to_csv(\"./dataset/Processed_Dataset_Combined.csv\", index=False)"
   ]
  },
  {
   "cell_type": "code",
   "execution_count": 24,
   "id": "27528bde-eba9-4e6b-87ba-59ffda542294",
   "metadata": {},
   "outputs": [
    {
     "data": {
      "text/html": [
       "<div>\n",
       "<style scoped>\n",
       "    .dataframe tbody tr th:only-of-type {\n",
       "        vertical-align: middle;\n",
       "    }\n",
       "\n",
       "    .dataframe tbody tr th {\n",
       "        vertical-align: top;\n",
       "    }\n",
       "\n",
       "    .dataframe thead th {\n",
       "        text-align: right;\n",
       "    }\n",
       "</style>\n",
       "<table border=\"1\" class=\"dataframe\">\n",
       "  <thead>\n",
       "    <tr style=\"text-align: right;\">\n",
       "      <th></th>\n",
       "      <th>Text1</th>\n",
       "      <th>Text2</th>\n",
       "      <th>Type</th>\n",
       "      <th>Lang</th>\n",
       "      <th>Scores</th>\n",
       "    </tr>\n",
       "  </thead>\n",
       "  <tbody>\n",
       "    <tr>\n",
       "      <th>0</th>\n",
       "      <td>It that happens, just pull the plug.</td>\n",
       "      <td>if that ever happens, just pull the plug.</td>\n",
       "      <td>train</td>\n",
       "      <td>eng</td>\n",
       "      <td>1.0</td>\n",
       "    </tr>\n",
       "    <tr>\n",
       "      <th>1</th>\n",
       "      <td>A black dog running through water.</td>\n",
       "      <td>A black dog is running through some water.</td>\n",
       "      <td>train</td>\n",
       "      <td>eng</td>\n",
       "      <td>1.0</td>\n",
       "    </tr>\n",
       "    <tr>\n",
       "      <th>2</th>\n",
       "      <td>I've been searchingthe entire abbey for you.</td>\n",
       "      <td>I'm looking for you all over the abbey.</td>\n",
       "      <td>train</td>\n",
       "      <td>eng</td>\n",
       "      <td>1.0</td>\n",
       "    </tr>\n",
       "    <tr>\n",
       "      <th>3</th>\n",
       "      <td>If he is good looking and has a good personali...</td>\n",
       "      <td>If he's good looking, and a good personality, ...</td>\n",
       "      <td>train</td>\n",
       "      <td>eng</td>\n",
       "      <td>1.0</td>\n",
       "    </tr>\n",
       "    <tr>\n",
       "      <th>4</th>\n",
       "      <td>She does not hate you, she is just annoyed wit...</td>\n",
       "      <td>She doesn't hate you, she is just annoyed.</td>\n",
       "      <td>train</td>\n",
       "      <td>eng</td>\n",
       "      <td>1.0</td>\n",
       "    </tr>\n",
       "    <tr>\n",
       "      <th>...</th>\n",
       "      <td>...</td>\n",
       "      <td>...</td>\n",
       "      <td>...</td>\n",
       "      <td>...</td>\n",
       "      <td>...</td>\n",
       "    </tr>\n",
       "    <tr>\n",
       "      <th>12698</th>\n",
       "      <td>ይሖዋ “የእውነት አምላክ ” ነው ።</td>\n",
       "      <td>እንዲህ ማድረግ የሚችለው ደግሞ ይሖዋ አምላክ ብቻ ነው ።</td>\n",
       "      <td>dev</td>\n",
       "      <td>amh</td>\n",
       "      <td>0.0</td>\n",
       "    </tr>\n",
       "    <tr>\n",
       "      <th>12699</th>\n",
       "      <td>ክረምትና በጋ በምስራቅ አፍሪካ ።</td>\n",
       "      <td>በብዛት በምስራቅ አፍሪካ ይገኛሉ ።</td>\n",
       "      <td>dev</td>\n",
       "      <td>amh</td>\n",
       "      <td>0.0</td>\n",
       "    </tr>\n",
       "    <tr>\n",
       "      <th>12700</th>\n",
       "      <td>ይህን ያህል እርግጠኛ እንዲሆን ያደረገው ምንድን ነው ?</td>\n",
       "      <td>ደስተኛ እንዲሆን አስተዋጽኦ ያደረገው ምንድን ነው ?</td>\n",
       "      <td>dev</td>\n",
       "      <td>amh</td>\n",
       "      <td>0.0</td>\n",
       "    </tr>\n",
       "    <tr>\n",
       "      <th>12701</th>\n",
       "      <td>ያ የበላ ሰው ከሕዝቡ መካከል ተለይቶ ይጠፋልና ።</td>\n",
       "      <td>መንግስት ግን ፣ “ለእርዳታ የተመደበ ገንዘብ ነው” ሊል ይችላል ።</td>\n",
       "      <td>dev</td>\n",
       "      <td>amh</td>\n",
       "      <td>0.0</td>\n",
       "    </tr>\n",
       "    <tr>\n",
       "      <th>12702</th>\n",
       "      <td>በሌላ በኩል የላቀ የሻምፒዮናነነት ፉክክር እንደሚደረግበት የሚጠበቀው 20...</td>\n",
       "      <td>20ኛው ፕሪሚዬር ሊግ የማንችስተር ነው ።</td>\n",
       "      <td>dev</td>\n",
       "      <td>amh</td>\n",
       "      <td>0.0</td>\n",
       "    </tr>\n",
       "  </tbody>\n",
       "</table>\n",
       "<p>12703 rows × 5 columns</p>\n",
       "</div>"
      ],
      "text/plain": [
       "                                                   Text1  \\\n",
       "0                   It that happens, just pull the plug.   \n",
       "1                     A black dog running through water.   \n",
       "2           I've been searchingthe entire abbey for you.   \n",
       "3      If he is good looking and has a good personali...   \n",
       "4      She does not hate you, she is just annoyed wit...   \n",
       "...                                                  ...   \n",
       "12698                             ይሖዋ “የእውነት አምላክ ” ነው ።   \n",
       "12699                              ክረምትና በጋ በምስራቅ አፍሪካ ።   \n",
       "12700                ይህን ያህል እርግጠኛ እንዲሆን ያደረገው ምንድን ነው ?   \n",
       "12701                    ያ የበላ ሰው ከሕዝቡ መካከል ተለይቶ ይጠፋልና ።   \n",
       "12702  በሌላ በኩል የላቀ የሻምፒዮናነነት ፉክክር እንደሚደረግበት የሚጠበቀው 20...   \n",
       "\n",
       "                                                   Text2   Type Lang  Scores  \n",
       "0              if that ever happens, just pull the plug.  train  eng     1.0  \n",
       "1             A black dog is running through some water.  train  eng     1.0  \n",
       "2                I'm looking for you all over the abbey.  train  eng     1.0  \n",
       "3      If he's good looking, and a good personality, ...  train  eng     1.0  \n",
       "4             She doesn't hate you, she is just annoyed.  train  eng     1.0  \n",
       "...                                                  ...    ...  ...     ...  \n",
       "12698               እንዲህ ማድረግ የሚችለው ደግሞ ይሖዋ አምላክ ብቻ ነው ።    dev  amh     0.0  \n",
       "12699                             በብዛት በምስራቅ አፍሪካ ይገኛሉ ።    dev  amh     0.0  \n",
       "12700                  ደስተኛ እንዲሆን አስተዋጽኦ ያደረገው ምንድን ነው ?    dev  amh     0.0  \n",
       "12701         መንግስት ግን ፣ “ለእርዳታ የተመደበ ገንዘብ ነው” ሊል ይችላል ።    dev  amh     0.0  \n",
       "12702                         20ኛው ፕሪሚዬር ሊግ የማንችስተር ነው ።    dev  amh     0.0  \n",
       "\n",
       "[12703 rows x 5 columns]"
      ]
     },
     "execution_count": 24,
     "metadata": {},
     "output_type": "execute_result"
    }
   ],
   "source": [
    "combine_data"
   ]
  },
  {
   "cell_type": "markdown",
   "id": "28ffd6d6-40e7-433b-8a73-dd978fa2009e",
   "metadata": {},
   "source": [
    "## Perform some analysis on the dataset"
   ]
  },
  {
   "cell_type": "code",
   "execution_count": 10,
   "id": "297856a3-00a2-4ea6-9d7b-cb2823656a08",
   "metadata": {
    "scrolled": true
   },
   "outputs": [
    {
     "data": {
      "text/plain": [
       "Lang  Type \n",
       "eng   train    5500\n",
       "hau   train    1736\n",
       "mar   train    1200\n",
       "tel   train    1170\n",
       "ary   train    1000\n",
       "amh   train     992\n",
       "mar   dev       300\n",
       "eng   dev       250\n",
       "hau   dev       212\n",
       "tel   dev       130\n",
       "ary   dev       118\n",
       "amh   dev        95\n",
       "Name: count, dtype: int64"
      ]
     },
     "execution_count": 10,
     "metadata": {},
     "output_type": "execute_result"
    }
   ],
   "source": [
    "# The distribution of each of the languages in both training and dev datasets\n",
    "combine_data[[\"Type\", \"Lang\"]].value_counts(subset=[\"Lang\", \"Type\"])"
   ]
  },
  {
   "cell_type": "code",
   "execution_count": 11,
   "id": "1b7205f7-6aad-4667-93b1-3fd2432fe87a",
   "metadata": {},
   "outputs": [
    {
     "name": "stdout",
     "output_type": "stream",
     "text": [
      "amh\n",
      "ary\n",
      "eng\n",
      "hau\n",
      "mar\n",
      "tel\n"
     ]
    }
   ],
   "source": [
    "arr = []\n",
    "for lang, check_df in combine_data[[\"Type\", \"Lang\"]].value_counts(subset=[\"Lang\", \"Type\"]).groupby(by=\"Lang\"):\n",
    "    print(lang)\n",
    "    use_this = check_df.values\n",
    "    arr.append({\"Lang\":lang, \"TrainSet\": use_this[0], \"DevSet\": use_this[1]})"
   ]
  },
  {
   "cell_type": "code",
   "execution_count": 12,
   "id": "9718d5aa-d5f1-406e-b378-662b0a432d90",
   "metadata": {},
   "outputs": [
    {
     "data": {
      "text/plain": [
       "<Axes: ylabel='Lang'>"
      ]
     },
     "execution_count": 12,
     "metadata": {},
     "output_type": "execute_result"
    },
    {
     "data": {
      "image/png": "[encoded data removed]",
      "text/plain": [
       "<Figure size 640x480 with 1 Axes>"
      ]
     },
     "metadata": {},
     "output_type": "display_data"
    }
   ],
   "source": [
    "pd.DataFrame(arr).plot(x=\"Lang\", y=[\"TrainSet\", \"DevSet\"], kind=\"barh\")"
   ]
  },
  {
   "cell_type": "code",
   "execution_count": 13,
   "id": "faf604d7-1741-479b-9298-687576fb1040",
   "metadata": {},
   "outputs": [
    {
     "data": {
      "text/plain": [
       "array([[<Axes: title={'center': 'Scores'}>]], dtype=object)"
      ]
     },
     "execution_count": 13,
     "metadata": {},
     "output_type": "execute_result"
    },
    {
     "data": {
      "image/png": "[encoded data removed]",
      "text/plain": [
       "<Figure size 640x480 with 1 Axes>"
      ]
     },
     "metadata": {},
     "output_type": "display_data"
    }
   ],
   "source": [
    "combine_data.hist()"
   ]
  },
  {
   "cell_type": "code",
   "execution_count": null,
   "id": "b86764ce-7c86-4468-82f3-79310d2b94ad",
   "metadata": {},
   "outputs": [],
   "source": []
  }
 ],
 "metadata": {
  "kernelspec": {
   "display_name": "Python 3 (ipykernel)",
   "language": "python",
   "name": "python3"
  },
  "language_info": {
   "codemirror_mode": {
    "name": "ipython",
    "version": 3
   },
   "file_extension": ".py",
   "mimetype": "text/x-python",
   "name": "python",
   "nbconvert_exporter": "python",
   "pygments_lexer": "ipython3",
   "version": "3.11.4"
  }
 },
 "nbformat": 4,
 "nbformat_minor": 5
}
