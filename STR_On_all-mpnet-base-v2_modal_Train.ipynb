{
  "cells": [
    {
      "cell_type": "code",
      "execution_count": 15,
      "metadata": {},
      "outputs": [
        {
          "name": "stdout",
          "output_type": "stream",
          "text": [
            "Requirement already satisfied: pandas in c:\\users\\admin\\workspace\\venv\\lib\\site-packages (2.1.1)\n",
            "Requirement already satisfied: numpy>=1.23.2 in c:\\users\\admin\\workspace\\venv\\lib\\site-packages (from pandas) (1.25.2)\n",
            "Requirement already satisfied: python-dateutil>=2.8.2 in c:\\users\\admin\\workspace\\venv\\lib\\site-packages (from pandas) (2.8.2)\n",
            "Requirement already satisfied: pytz>=2020.1 in c:\\users\\admin\\workspace\\venv\\lib\\site-packages (from pandas) (2023.3.post1)\n",
            "Requirement already satisfied: tzdata>=2022.1 in c:\\users\\admin\\workspace\\venv\\lib\\site-packages (from pandas) (2023.3)\n",
            "Requirement already satisfied: six>=1.5 in c:\\users\\admin\\workspace\\venv\\lib\\site-packages (from python-dateutil>=2.8.2->pandas) (1.16.0)\n",
            "Note: you may need to restart the kernel to use updated packages.\n"
          ]
        }
      ],
      "source": [
        "pip install pandas"
      ]
    },
    {
      "cell_type": "code",
      "execution_count": 16,
      "metadata": {},
      "outputs": [
        {
          "name": "stdout",
          "output_type": "stream",
          "text": [
            "Requirement already satisfied: scipy in c:\\users\\admin\\workspace\\venv\\lib\\site-packages (1.11.2)\n",
            "Requirement already satisfied: numpy<1.28.0,>=1.21.6 in c:\\users\\admin\\workspace\\venv\\lib\\site-packages (from scipy) (1.25.2)\n",
            "Note: you may need to restart the kernel to use updated packages.\n"
          ]
        }
      ],
      "source": [
        "pip install scipy"
      ]
    },
    {
      "cell_type": "code",
      "execution_count": 17,
      "metadata": {},
      "outputs": [
        {
          "name": "stdout",
          "output_type": "stream",
          "text": [
            "Requirement already satisfied: matplotlib in c:\\users\\admin\\workspace\\venv\\lib\\site-packages (3.8.0)\n",
            "Requirement already satisfied: contourpy>=1.0.1 in c:\\users\\admin\\workspace\\venv\\lib\\site-packages (from matplotlib) (1.1.0)\n",
            "Requirement already satisfied: cycler>=0.10 in c:\\users\\admin\\workspace\\venv\\lib\\site-packages (from matplotlib) (0.11.0)\n",
            "Requirement already satisfied: fonttools>=4.22.0 in c:\\users\\admin\\workspace\\venv\\lib\\site-packages (from matplotlib) (4.42.1)\n",
            "Requirement already satisfied: kiwisolver>=1.0.1 in c:\\users\\admin\\workspace\\venv\\lib\\site-packages (from matplotlib) (1.4.5)\n",
            "Requirement already satisfied: numpy<2,>=1.21 in c:\\users\\admin\\workspace\\venv\\lib\\site-packages (from matplotlib) (1.25.2)\n",
            "Requirement already satisfied: packaging>=20.0 in c:\\users\\admin\\workspace\\venv\\lib\\site-packages (from matplotlib) (23.1)\n",
            "Requirement already satisfied: pillow>=6.2.0 in c:\\users\\admin\\workspace\\venv\\lib\\site-packages (from matplotlib) (10.0.0)\n",
            "Requirement already satisfied: pyparsing>=2.3.1 in c:\\users\\admin\\workspace\\venv\\lib\\site-packages (from matplotlib) (3.0.9)\n",
            "Requirement already satisfied: python-dateutil>=2.7 in c:\\users\\admin\\workspace\\venv\\lib\\site-packages (from matplotlib) (2.8.2)\n",
            "Requirement already satisfied: six>=1.5 in c:\\users\\admin\\workspace\\venv\\lib\\site-packages (from python-dateutil>=2.7->matplotlib) (1.16.0)\n",
            "Note: you may need to restart the kernel to use updated packages.\n"
          ]
        }
      ],
      "source": [
        "pip install -U matplotlib"
      ]
    },
    {
      "cell_type": "code",
      "execution_count": 18,
      "metadata": {
        "id": "T6myajMlIyXZ"
      },
      "outputs": [],
      "source": [
        "import re\n",
        "import pandas as pd\n",
        "import numpy as np\n",
        "from scipy.stats import spearmanr, pearsonr\n",
        "import matplotlib.pyplot as plt\n",
        "plt.style.use('ggplot')"
      ]
    },
    {
      "cell_type": "code",
      "execution_count": 19,
      "metadata": {
        "colab": {
          "base_uri": "https://localhost:8080/",
          "height": 206
        },
        "id": "1PhipxbhIyXa",
        "outputId": "1da7308c-a799-4fe0-897e-3e4a23ea15c2"
      },
      "outputs": [
        {
          "data": {
            "text/html": [
              "<div>\n",
              "<style scoped>\n",
              "    .dataframe tbody tr th:only-of-type {\n",
              "        vertical-align: middle;\n",
              "    }\n",
              "\n",
              "    .dataframe tbody tr th {\n",
              "        vertical-align: top;\n",
              "    }\n",
              "\n",
              "    .dataframe thead th {\n",
              "        text-align: right;\n",
              "    }\n",
              "</style>\n",
              "<table border=\"1\" class=\"dataframe\">\n",
              "  <thead>\n",
              "    <tr style=\"text-align: right;\">\n",
              "      <th></th>\n",
              "      <th>PairID</th>\n",
              "      <th>Text</th>\n",
              "      <th>Score</th>\n",
              "    </tr>\n",
              "  </thead>\n",
              "  <tbody>\n",
              "    <tr>\n",
              "      <th>0</th>\n",
              "      <td>ENG-dev-0000</td>\n",
              "      <td>The story is gripping and interesting.\\nIt's a...</td>\n",
              "      <td>0.64</td>\n",
              "    </tr>\n",
              "    <tr>\n",
              "      <th>1</th>\n",
              "      <td>ENG-dev-0001</td>\n",
              "      <td>The majority of Southeast Alaska 's area is pa...</td>\n",
              "      <td>0.61</td>\n",
              "    </tr>\n",
              "    <tr>\n",
              "      <th>2</th>\n",
              "      <td>ENG-dev-0002</td>\n",
              "      <td>and from your post i think you are to young to...</td>\n",
              "      <td>0.31</td>\n",
              "    </tr>\n",
              "    <tr>\n",
              "      <th>3</th>\n",
              "      <td>ENG-dev-0003</td>\n",
              "      <td>The film 's success also made Dreamworks Anima...</td>\n",
              "      <td>0.59</td>\n",
              "    </tr>\n",
              "    <tr>\n",
              "      <th>4</th>\n",
              "      <td>ENG-dev-0004</td>\n",
              "      <td>I am still confused about how I feel about thi...</td>\n",
              "      <td>0.50</td>\n",
              "    </tr>\n",
              "  </tbody>\n",
              "</table>\n",
              "</div>"
            ],
            "text/plain": [
              "         PairID                                               Text  Score\n",
              "0  ENG-dev-0000  The story is gripping and interesting.\\nIt's a...   0.64\n",
              "1  ENG-dev-0001  The majority of Southeast Alaska 's area is pa...   0.61\n",
              "2  ENG-dev-0002  and from your post i think you are to young to...   0.31\n",
              "3  ENG-dev-0003  The film 's success also made Dreamworks Anima...   0.59\n",
              "4  ENG-dev-0004  I am still confused about how I feel about thi...   0.50"
            ]
          },
          "execution_count": 19,
          "metadata": {},
          "output_type": "execute_result"
        }
      ],
      "source": [
        "# Load the File\n",
        "df_str_rel = pd.read_csv('Task A/eng/eng_train.csv')\n",
        "df_str_rel.head()"
      ]
    },
    {
      "cell_type": "code",
      "execution_count": 20,
      "metadata": {
        "colab": {
          "base_uri": "https://localhost:8080/"
        },
        "id": "qXA06vbeIyXb",
        "outputId": "14e7402d-bc57-44f0-8684-239d04330112"
      },
      "outputs": [
        {
          "data": {
            "text/plain": [
              "array([\"The story is gripping and interesting.\\nIt's a brilliant, compelling, and heartfelt story.\",\n",
              "       \"The majority of Southeast Alaska 's area is part of the Tongass National Forest , the United States ' largest national forest .\\nA lot of of the panhandle is part of the Tongass National Forest , which is the biggest national forest in the United States .\",\n",
              "       'and from your post i think you are to young to be in love like this.\\nI think it will be very bad if he acquires her money.',\n",
              "       \"The film 's success also made Dreamworks Animation create three sequels : Shrek 2 , Shrek the Third , and Shrek Forever After .\\nThere have also been two sequels -LRB- follow-ups -RRB- of Shrek , called Shrek 2 and Shrek the Third .\",\n",
              "       'I am still confused about how I feel about this book.\\nIn this particular book, Blue and Gansey are still struggling to reconcile their (very forbidden) feelings for each other.',\n",
              "       'Connor is the exception to his families rules.\\nHe does things to appear to be the perfect son while quietly living his own life.',\n",
              "       'Ellegarden is a Japanese rock group formed in December 1998 in Chiba , Japan .\\nEllegarden is a Japanese band formed in 1998 by four young men .',\n",
              "       'It was listed on the National Register of Historic Places in 1979 , updated in 2008 .\\nIt became part of the National Register of Historic Places in 1979 .',\n",
              "       \"an hour and a half from the evening service passed .\\nit 's an hour and a half into dinner service .\",\n",
              "       'One of the major disorders is Gender Identity Disorder .\\nDoctors may diagnose this person with Gender identity disorder .',\n",
              "       'Meat is dropped into a pan.\\nA woman is putting meat in a pan.',\n",
              "       'A couple walks down a city street holding hands.\\nA man and woman are walking down the street holding hands.',\n",
              "       'Yoshiyuki Shinoda -LRB- born 18 June 1971 -RRB- is a former Japanese football player .\\nHiroto Muraoka -LRB- born September 19 , 1931 -RRB- is a former Japanese football player .',\n",
              "       'He recruited Kamoya Kimeu among others .\\nStoiber is a keen football fan and he serves as Co-Chairman on the Advisory Board of FC Bayern Munich .',\n",
              "       'Incidentally, what made him leave you?\\nAsk yourself if you actually love him.',\n",
              "       'The festival was headlined by local and international musical groups and artists , including :\\nLocal and international musical groups and artists performed , including :',\n",
              "       'Strictly speaking, it refers to text that is inscribed on a tombstone or plaque, but it may also be used in a figurative sense.\\nSome epitaphs are specified by the person themselves before their death, while others are chosen by those responsible for the burial.',\n",
              "       'A man riding a horse in slow motion.\\nA man is riding on a horse.',\n",
              "       'He is voiced by and loosely based on series co-creator Matt Stone .\\nHe is voiced by and influenced by Matt Stone , one of the people who made the show .',\n",
              "       \"welcome bob has a beautiful house of hispanic , getting into a white van at the southwest entrance .\\nwell , welcome i 've got a beautiful house hispanic male , nonsmoker , enters white van , southwest door .\",\n",
              "       'This man, wearing a white t-shirt and black shorts, is standing on a path in the forest.\\nA man in a black shirt and a woman in black and red sit at a table eating together.',\n",
              "       'There\\'s character development, it\\'s also uncovers human relationship, it tells about family, friends, love, and how \"forever\" might be different for everyone.\\nIt\\'s definitely one of my favorites :)',\n",
              "       \"i mean , you ca n't have them all arrested .\\nand to all of this , i have proof that there is life after death .\",\n",
              "       '*hits head against wall repeatedly* Why oh why did it not work?\\nIt had all of the Green and Levithan quirkiness.',\n",
              "       'A man in a lift bucket is trimming tree branches.\\nMan in wheelchair and two men pushing him greeted by monk.',\n",
              "       'It is better known as a walk .\\nIt is also known as a walk .',\n",
              "       'Mamtesh Shakya is an Indian politician and a member of the Seventeenth Legislative Assembly of Uttar Pradesh in India.\\nHe represents the Patiyali constituency of Uttar Pradesh and is a member of the Bhartiya Janta Party.',\n",
              "       'Formed in June 2004, the band consists of Matt Rauch (lead vocals), Ryan Baredes (guitar), and Max Rauch (Drums).\\nThey have released two albums.',\n",
              "       'As of the 2020 census, its population was 15,193.\\nThe county seat is Fort Stockton.',\n",
              "       'Its county seat is Alva .\\nIts county seat is Bartlesville .',\n",
              "       \"She didn't break down, she was strong and human.\\nTo say that there was never a dull moment is an understatement.\",\n",
              "       \"But, of course, it's not that simple.\\nHowever, this is not for me.\",\n",
              "       \"This edition appeared in parts from 1857 to 1860 , and Staunton 's work was praised by experts .\\nThis edition appeared in parts from 1857 to 1860 ; the work was praised in reviews .\",\n",
              "       \"Shortened form of Dorothy -LRB- 3 -RRB-\\nShort for `` Dorothy '' -LRB- 3 -RRB-\",\n",
              "       'they get annoying after a while though.\\nThey get very annoying after a while though.',\n",
              "       'A boy with no shirt is standing in water.\\nskateboarder \"Popping a wheelie\" near the water.',\n",
              "       \"I didn't see any development in Valerie, but plenty of flaws.\\nIt created such a new dimension to her that we didn't get to see in Hopeless.\",\n",
              "       'He has played for Japan national team .\\nHe is best known as the drummer for the punk rock band , Rise Against .',\n",
              "       'In addition , it is home to a well-known cemetery , Forest Park Cemetery , currently under the jurisdiction of the town .\\nFibulae are also divided into classes based on their general forms .',\n",
              "       'the mission was running smoothly .\\nthe mission was going too smoothly .',\n",
              "       \"What will she do for the ones she loves?\\nShe is beautiful on the outside but she doesn't see what others see.\",\n",
              "       'the people speak , and they have chosen you , britt .\\nthe people have spoken , and they want you , brit .',\n",
              "       \"I love this series and can't wait for the next one!\\nThe story starts of great!\",\n",
              "       \"`` they 're trying to make a surprise attack to seize the planet , '' honor said simply .\\n`` they 're trying a coup de main to seize the planet , '' honor said flatly .\",\n",
              "       'Motorcades can be used to transport a very important person , usually a political figure .\\nMotorcades can be used to transport a very important person -LRB- VIP -RRB- , usually a political figure .',\n",
              "       'A young girl is drinking a drink through a straw.\\nfour young boys play basketball.',\n",
              "       'Its county seat is Perry .\\nIts county seat is Waurika .',\n",
              "       'oh my god I love that line.\\nGood lord in heaven, I am enamored of that particular entry.',\n",
              "       \"I was on the edge of my seat for most of this book and could not stop reading.\\nThe only gripe I have with this book is it's simply not long enough.\",\n",
              "       \"If you hurt someone like that then you dont love them.\\nYou can't search for love, it will find you.\",\n",
              "       'If you want my oppinion, yes.\\nIf so, it is very, very easy.',\n",
              "       \"is that why you brought me here ?\\nand i 'm not quite `` here '' as you are , ransome of thulcandra .\",\n",
              "       'Manilla is a city in Crawford County , Iowa , United States , along the West Branch of the West Nishnabotna River .\\nHastings is a city in Mills County , Iowa , United States .',\n",
              "       \"do you think he 'll be useful to you ?\\nyou think he is of use to you ?\",\n",
              "       'Within a week , Vedder had joined the band .\\nThe lead singer of the band is Eddie Vedder .',\n",
              "       'Traditionally , plantain leaves are used like plates while serving South Indian thali or during Sadya .\\nPlantain leaves are used like plates in several dishes , including Hallaca from Venezuela , or south Indian Thali .',\n",
              "       \"First off, technically this is two novellas in one.\\nI picked up and finished reading this book a couple of days ago and already I'm starting to forget things about it.\",\n",
              "       'The city of Hiawatha maintains three parks .\\nHiawatha is a city of Iowa in the United States .',\n",
              "       'I met my boyfriend at my school!\\nWe made our acquaintance where I attend classes.',\n",
              "       \"Blue's father was bland and disappointing.\\nOther than the revelation about his link to trees he didn't add anything.\",\n",
              "       'Police commissioner (also known as the commissioner of police) is a senior rank in many police forces of the world.\\nIn other jurisdictions, it is the title of a member of an oversight board.',\n",
              "       'YOU COULD DO MUCH BETTER AND FIND A MAN OR BOY THAT DO CARE AND WILL DO YOU RIGHT!!!!\\nYou could do much better, and find a man or boy who does care, and will treat you properly.',\n",
              "       'There is a woman in a pink shirt holding a can and three other men.\\nA boy in a striped shirt walking a small dog on a leash.',\n",
              "       'Currently , he plays in the Russian Second Division for FC Volga Tver .\\nSince August 2009 , he has played for FC -LRB- Football Club -RRB- Volga Tver .',\n",
              "       \"The characters are well-developed, and the plot is very intense and well-done.\\nThis is one book you'll want to read with the lights on.\",\n",
              "       'It is a great character study.\\nAnnith, like Ismae and Sybella before her, was an interesting protagonist with a fascinating backstory.',\n",
              "       '\"Only love and truth, okay?\\nOnly love and truth from now on.',\n",
              "       'Meanwhile, she calls in the big guns to help solve the mystery of the abduction: Deming Chen.\\nDeming infiltrates the popular group of vampires who were at the party to start nosing around and asking questions.',\n",
              "       'Born in Philadelphia, Pennsylvania, Ceci had a most versatile and distinguished career.\\nA child prodigy, he began his studies at Curtis Institute of Music on a full scholarship at the age of eight.',\n",
              "       'Clinical Rehabilitation is a monthly peer-reviewed medical journal that publishes scholarly articles in the field of Rehabilitation medicine.\\nThe journal was established in 1987.',\n",
              "       'Valvular heart disease is disease process that affects one or more valves of the heart .\\nIf people get heart disease later , it is called acquired heart disease .',\n",
              "       \"there 's even the name of the company that imported the bed .\\neven mentions the name of the moving company that put the bed in .\",\n",
              "       'Bearded man in a blue jacket walking down the street.\\nA bald man stands next to a pay phone, looking the other direction.',\n",
              "       \"well , from my point of view , i guess this is quahog , but it 's no ice age .\\nfrom the look of it , i 'm guessing this is quahog but during some sort of ice age .\",\n",
              "       'If you want to blow him off: --Give him your number with one or two wrong digits.\\nIf you want to discreetly reject him, give him your phone number but with a few incorrect digits.',\n",
              "       'things not going well with your friend ?\\nyou were fired , were you not ?',\n",
              "       'The answer is that love is replaced by fear.\\nAnd either that lack of love or the overpowering fear makes the people in this novel indifferent and mean.',\n",
              "       'He begins to show an interest in Megan, but Alex warns him to stay away.\\nHe excites Megan, an older guy likes her.',\n",
              "       'If you are truly interested in this man, approach him and talk.\\nI am not sure im I love this guy but I truly like him alot.',\n",
              "       \"Q: How do you get a one-armed blonde out of a tree?\\nHere's joke for you, how do you get a one-armed blonde out of a tree?\",\n",
              "       'They each have so much going on in their lives.\\nActually, that is one of my complaints about this book.',\n",
              "       'Douglas Robinson, a senior vice president of finance, will take over as chief financial officer on an interim basis.\\nDouglas Robinson, CA senior vice president, finance, will fill the position in the interim.',\n",
              "       'Two policemen in black and neon colors watch a light rail car go by.\\nAn Asian man wearing black and red clothes and shoes dribbles a basketball on a court.',\n",
              "       'Entombed A.D. was a Swedish death metal band formed in 2014, composed of former members of Entombed after their breakup.\\nThey released their debut album, Back to the Front, the same year.',\n",
              "       'everything you say is right .\\nhave you strewn my pages with stardust ?',\n",
              "       \"It's not THE WHO It's The GUESS WHO\\nYou are not the only one.\",\n",
              "       'Oh, and her new roommate took compromising photos of Reed and a certain someone, and is now using it to blackmail Reed.\\nFrom finding her boyfriend to overcoming her blackmailer to trying to officially become a Billings Girl, Reed has too much on her plate.',\n",
              "       \"I think it's because I don't feel like this book went as deep.\\nThis seemed like a weak reason to me, but I went along with it.\",\n",
              "       'Wyanbene is a geographic area between Braidwood and Cooma in Southern NSW, Australia.\\nIt includes a significant cave system and is adjacent to Deua National Park.',\n",
              "       'The girl flew her kite while she ran up a hill.\\nA girl loses her kite.',\n",
              "       'finally , the itching stopped .\\nfinally got that itching under control .',\n",
              "       \"Asterix and Obelix 's Birthday : The Golden Book -LRB- 2009 -RRB-\\nAsterix has many adventures with his friend , Obelix .\",\n",
              "       'The bulk of the funds, some $65 billion, will go for military operations in Iraq and Afghanistan.\\nThe bulk of the bill - $64.7 billion - goes for military operations primarily in Iraq and Afghanistan.',\n",
              "       \"how the eagle was lost , no one knows .\\none of martin scorsese 's best films .\",\n",
              "       'marion opened the door , which was supposed to be locked from the inside .\\nshe opened a door that should have been locked .',\n",
              "       'The Walton family held five spots in the top ten richest people in the United States until 2005 .\\nGoodwater is a city in Coosa County , Alabama , United States .',\n",
              "       'Two women standing by a table of vegetables.\\nTwo dirt bike rides during a competition.',\n",
              "       'I did not know he was married beacuse I have not seen that episode yet!\\nif the guy doesnt like you for who you are then he is not worth it!',\n",
              "       'East Hope is a city in Bonner County , Idaho , United States .\\nEast Hope is a city of Idaho in the United States .',\n",
              "       'tickets , hotel bills , rented cars , all written on fake names , traced back to her .\\nplane tickets , hotel bills , rental cars , all registered to aliases traceable to her .',\n",
              "       'Igor Tudor -LRB- born 16 April 1978 in Split -RRB- is a Croatian former football -LRB- soccer -RRB- defender .\\nTadao Onishi -LRB- April 18 , 1943 -- June 29 , 2006 -RRB- was a Japanese football player .',\n",
              "       'Dress nice but not sexy at first.\\nThe best way is to dress in a nice fashion, but not one that could be deemed \"sexy\", at least at first.',\n",
              "       'Definitely a sweet and quick read.\\nI grew to love Warner here.',\n",
              "       'Hilton found literary success at an early age .\\nHilton became a success writer when he was still young .',\n",
              "       'Melcher-Dallas is a city in Marion County , Iowa , United States .\\nShinagawa has sister-city relationships with Auckland in New Zealand , Geneva in Switzerland , and Portland , Maine in the United States .',\n",
              "       'Another potential risk is the activity of local monks , who have occupied roost caves during periods of meditation .\\nreference : target , span .',\n",
              "       \"Iran says UN nuclear talks will continue\\nIran says nuclear talks with UN 'constructive'\",\n",
              "       'A child is walking through wet sand wearing a blue shirt.\\nA woman in a blue shirt stands with her hands on her hips.',\n",
              "       'the 25th Century BC describe the nature of the Pharaoh in different characters as both Horus and Osiris .\\nWhen he died , that pharaoh became Osiris , the god of the dead and the father of Horus .',\n",
              "       'In addition to housing the Trondheim Tramway Museum, it features the offices and depot for the tram operator, Boreal Bane.\\nThe station also features one of the double track stretches on the line, where trams can pass.',\n",
              "       'I do love this series and this book went very quickly.\\nI could not stop reading it.',\n",
              "       'Billericay is a part of the London commuter belt .\\nBillericay is a town in the United Kingdom .',\n",
              "       \"i 'll tell her right now .\\nthat 's right near juniata park .\",\n",
              "       'Mexican singer Jenni Rivera believed killed in plane crash\\nJenni Rivera, Mexican music star, dies in plane crash',\n",
              "       'The Roman Senate was a political institution in ancient Rome .\\nThe Gulf is also a breeding ground for cyclones during the period between November and April .',\n",
              "       'It is native to the southwestern United States, where it grows in scrub, woodland, and canyons.\\nIt is a perennial herb growing erect to a maximum height near half a meter.',\n",
              "       'Anakin is one awesome fighter, there is no way that Maul could be him.\\nAnakin has fighting skills greater than that of Maul',\n",
              "       'The city is the county seat of Blount County .\\nIt is the county seat of Northampton County .',\n",
              "       'Its orchestra is the Bavarian State Orchestra .\\nIn 1923 he left for the United States .',\n",
              "       'I received Losing Hope as an ARC in exchange for an honest review.\\nI received a copy of this novel from the author in exchange for an honest review.',\n",
              "       'I thought this book was adorable.\\nI thought he was the best character in the book.',\n",
              "       \"sacrifice your career and then she'll complain that you don't bring enough money home .\\nIf you sacrafice your career, she will complain that you do not mae enough money.\",\n",
              "       \"okay , i 'm leaving myself behind this situation .\\nokay , i 'm recusing myself from this situation .\",\n",
              "       \"I might seem a masochist but it really was funny :D and Poet's thoughts were brilliant and unusual.\\nI don't know I really loved all of the characters with their craziness and all.\",\n",
              "       \"Don't ever regret anything you do.\\nI recommend that you never regret anything that you do.\",\n",
              "       \"But that's about all the good I can say for it.\\nBut where is Maya in all of this?\",\n",
              "       'We are all vessels filled with many wonders.\\nJingle Bell Rock by Bobby Helm We are all vessels filled with many wonders.',\n",
              "       'The man is in silhouette while the mountain landscape is visible.\\nA man show cases some clothes while wearing blue shoes.',\n",
              "       'Managers of the England national football team .\\nThe host nation then presents artistic displays of music , singing , dance , and theater representative of its culture .',\n",
              "       \"There was a family slowly falling apart, only to have it mended in the end.\\nThe other one didn't do so well.\",\n",
              "       'Cincinnati is a city in Appanoose County , Iowa , United States .\\nPella is a city in Marion County , Iowa , United States .',\n",
              "       'Iraqi Bomb Attacks Kill At Least 13\\nIraqi Car Bomb Near Church Kills At Least 14',\n",
              "       'Ippei Watanabe -LRB- born 28 September 1969 -RRB- is a former Japanese football player .\\nMasanaga Kageyama -LRB- born 23 May 1967 -RRB- is a former Japanese football player .',\n",
              "       'The character has been generally well received by critics favouring her sound medical skills and poor bedside manner.\\nBut Duncan Lindsay writing for newspaper Metro accused the character of being one-dimensional.',\n",
              "       'and can you give this to your mom ?\\nwould you give this to mom for me ?',\n",
              "       \"i'm not sure, but maybe gilmore girls.\\nAnd I'm not a freak, neither are you.\",\n",
              "       \"whoa ! i see what 's going on here .\\nwhat 's the status of the magnetic field ?\",\n",
              "       'Oh, and Gigi also has to run for student council.\\nBut he also has an unpredictable streak (i.e.',\n",
              "       'A man in a red shirt sitting on a plastic stool in a shaded sandy area.\\nA young man wearing jeans and jacket walking down a street.',\n",
              "       \"Last I heard (and this is pure gossip), they're engaged to be married.\\nI heard some gossip about them being engaged to be married.\",\n",
              "       'arrange one week of surprises for her.\\nPlan to surprise her for a whole week.',\n",
              "       'A brown dog is jumping over a pole with fire on the ends.\\nA brown and white dog jumps over a dog hurdle.',\n",
              "       'The protein encoded by this gene belongs to the MYST family of histone acetyl transferases (HATs) and was originally isolated as an HIV-1 TAT-interactive protein.\\nHATs play important roles in regulating chromatin remodeling, transcription and other nuclear processes by acetylating histone and nonhistone proteins.',\n",
              "       'This time the liquid increased in quantity by like double.\\nBut my cousins were watching so I had to suck it up which totally sucked.',\n",
              "       'Two old women sit on a bench having a conversation.\\nFour laughing women sitting around a dining table.',\n",
              "       \"I mention this relationship is a complication for Grace because she doesn't want to care for and eventually lose someone else.\\nShe sets out to protect Eva from her mom by keeping the truths about her mom secret from Eva.\",\n",
              "       'In midafternoon trading, the Nasdaq composite index was up 8.34, or 0.5 percent, to 1,790.47.\\nThe Nasdaq Composite Index .IXIC dipped 8.59 points, or 0.48 percent, to 1,773.54.',\n",
              "       \"madam , this flag is passed on behalf of a grateful nation , honorable and faithful service .\\nma'am , this flag is presented on behalf of a grateful nation for the honorable and faithful service rendered by your loved one .\",\n",
              "       'Yusuke Omi -LRB- born December 26 , 1946 -RRB- is a former Japanese football player .\\nNoritaka Hidaka -LRB- born May 29 , 1947 -RRB- is a former Japanese football player .',\n",
              "       'I talk to him more at school then my own boyfriend\\nAt school I talk to him more than I talk to my own boyfriend.',\n",
              "       'This is an area where an increasing amount of private firms are taking business away from the trusts .\\nIn some place private firms do this job instead , but it can be a big source of money for the trusts .',\n",
              "       'A pair of young boys in t-shirts are hiding in the woods with one looking aghast.\\nTwo smiling little girls playing in a fountain with other people.',\n",
              "       'He won three events in snowboardcross between 2004 and 2009.\\nAt the 2006 Winter Olympics in Turin, Watanabe finished 31st in the snowboard cross event.',\n",
              "       'Our intrepid group has to make major adjustments to their way of life to accommodate the \"ferals.\"\\nIt\\'s a nice pause in the build-up for the final book in the series.',\n",
              "       \"if we do n't make this situation , it 's going to be a huge problem .\\nit is that you do n't respect me enough to allow me to take my own deciciones . ?\",\n",
              "       \"I'm off to read Free Four after I write this review by the way.\\nI think I read it four or five times.\",\n",
              "       'There is a man behind a white minivan, police car driving down the street as a white car pulls onto the street.\\nA man in green shorts is jumping to catch a frisbee as another man and woman run towards him.',\n",
              "       'Two people wearing black sit on a bench and look down.\\nTwo men with sunglasses are walking by a red wall.',\n",
              "       'Find somebody else that you could love.\\nIdentify another individual you would be infatuated with',\n",
              "       'Kids play soccer on a field.\\nThree boys playing soccer in a field',\n",
              "       \"A few of my favorite readers didn't like this at all, but I was thoroughly charmed, as always.\\nHis books are kind of glib, I guess; sweet and funny and larger than life, but that's what I love about them.\",\n",
              "       'Each of these is described powerfully, and the poetry is among the finest in Middle English.\\nIn each case, the poet warns his readers about the dangers of defilement and the joys of purity.',\n",
              "       'Definitely one of my very favourite stories of all time.\\nDefinitely one of the better indies.',\n",
              "       \"This book was NOT boring.\\nNone of this is to say I don't like this book.\",\n",
              "       \"You just can't help but fall in love with him too.\\nHe was so respectful and just everything he did for Natalie, melted your heart.\",\n",
              "       'There are more than 120 modern species assigned to over 20 genera .\\nDespite the huge numbers , there are only about 120 modern species in 20 genera .',\n",
              "       'there is one song by cold chisel, cant think of the name of it sorry\\nThere is one song by Cold Chisel, I cannot think of the name of it.',\n",
              "       'a young man and a small boy holding a large movie camera standing next to a set of tracks.\\nA young man wearing a red t-shirt and black pants performs a front wheel stand on a bicycle.',\n",
              "       'A boy wearing a life jacket has an apple in his mouth.\\nA boy in a red jacket does a gymnastic maneuver on a grassy athletic field.',\n",
              "       'Fairest is a wonderful book and explanation for why Levana is the way she is and why she made certain choices.\\nWhen she finds why, she must decide for herself what to do.',\n",
              "       'i would try some humor with him.\\njust walk up to him and start a conversation.',\n",
              "       \"It's a wonderful book by John Green.\\nI found the book okay.\",\n",
              "       \"you 're grounded by the tyres .\\nslam , man . you find it ?\",\n",
              "       'Pine Bluff is the largest city and county seat of Jefferson County , Arkansas , United States .\\nHurt is a town in Pittsylvania County , Virginia , United States .',\n",
              "       'Copy from Netgalley for honest review.\\nI really enjoyed this book.',\n",
              "       'The place where the book stopped was awkward and there was no wrap up at the end.\\nSo, I anxiously await the next book.',\n",
              "       \"It wasn't addressed as well or as thoroughly as I would have liked/thought was necessary.\\nNot what I thought it would be.\",\n",
              "       'I do not think so because he is too old for me.\\nWhen they do not want you to know the answer,especially.',\n",
              "       'People with BDD often have more than one area of concern .\\nIn most examples , BDD is not found even when people have it .',\n",
              "       \"If she is a smart girl she can convince the guy to wait\\nIf she has any intelligence, she'll be able to convince the guy to wait.\",\n",
              "       'At one time , he received a seven-inch gash in his leg .\\nOnce he received a seven-inch cut in his leg .',\n",
              "       'I do not know when it will be available for sale in Jakarta.\\nIt is sad because I will never be able to go home.',\n",
              "       'Man in a small boat, with a white turban around his head, transporting shrubbery.\\na man in green holding a camera stands between two of the head statues on Easter island.',\n",
              "       \"i knew you 'd be interested .\\nhey , little guy , you mind ?\",\n",
              "       'The capital is Morioka .\\nIts capital is the city of Benevento .',\n",
              "       \"I absolutely loved the first book.\\nThis is the 2nd book in the series-and I didn't read the first one.\",\n",
              "       'you have to be 18 by yourself\\nYou must reach the age of 18 individually.',\n",
              "       'Few things: Brennan is NOT the only last name that is good, just saying.\\nTory is not the only person there, she was with one of her friends most of the time.',\n",
              "       'Thanks to Spencer Hill Press and Netgaley for providing this advanced reader copy for an honest review.\\nDisclaimer: I received a free electronic copy of this novel in exchange for an honest review.',\n",
              "       'Empicoris is a cosmopolitan genus of thread-legged bug (Emesinae).\\nNumerous species have been described.',\n",
              "       'What I did not like was that it is hard to remember who is who.\\nThey did what I could never do, and I admire them for it.',\n",
              "       'rubbish will often tell you more about someone than a conversation face to face .\\nthe garbage someone leaves on the curb can often tell you more than a face-to-face conversation .',\n",
              "       \"Act like it doesn't bother you.\\nwhy does it turn you on?\",\n",
              "       'John and Edie were both outstanding characters.\\nThe author did a really good job at making these characters so different, but relatable to each other.',\n",
              "       \"do you really think you 'll open it before the cops get here ?\\nyou really think you can crack that before the cops get here ?\",\n",
              "       'A boy in red jumps backward onto the sand at a playground.\\nThe boy in red swimming trunks is jumping on the sand.',\n",
              "       'A woman in a black tank top and shorts walks along side water while listening to her headphones.\\nA young man in a white shirt holding cotton candy next to a young woman in a white tank top.',\n",
              "       \"I was up all night, until 5 am reading this book.\\nBecause that's really what the title of the book is all about.\",\n",
              "       'The population was 610 at the 2000 census .\\nAs of 2000 , the population was 11,792 .',\n",
              "       \"Only Ever Yours is a dystopian novel and probably one of the most unsettling I've ever read.\\nugh I wanna read the next one --------------------------------------------------------------------------\",\n",
              "       'There are over 35 formal flowerbeds, geometric pathways, rose arbor, grape arbor, fruit trees, and vegetable and herb gardens.\\nA greenhouse is used extensively to provide seedlings used on the estate.',\n",
              "       \"It was remade in 1952.\\nThe film's art direction was by Robert Neppach and Erwin Scharf.\",\n",
              "       \"The species is also known as the Common Hippopotamus or the Nile Hippopotamus .\\n' is for quickly generating category tags related to birth and death years , including living people and missing or unknown values .\",\n",
              "       'i think we both got taught when we tried to help someone we cared about .\\ni think we both got screwed in trying to do a favor for someone we cared about .',\n",
              "       'Glidden is a town in Carroll County , Iowa , United States .\\nBalsam Lake is a town in Polk County , Wisconsin , United States .',\n",
              "       \"And all were inducted into the College Football Hall of Fame . ''\\nThey all made it into the College Football Hall of Fame . ''\",\n",
              "       'and the vultures who really do suede !\\nand buzzards that can really buzz !',\n",
              "       \"it 's a popular psychology , or is there a piece of truth ?\\nis that just pop psychology , or is there some truth to it ?\",\n",
              "       'Four young boys are running down a sidewalk.\\nFour young boys flexing for the camera.',\n",
              "       'But he is such a great guy and loves her for who she is.\\nHe is a great guy and loves her for the person she is.',\n",
              "       'And if reality TV really contained as many complicated, engaging characters as this book -- well, I would watch more of it.\\n(I really only do cooking shows.',\n",
              "       'At this point a local road -LRB- to Scout Green -RRB- runs between the two carriageways without a link to the motorway .\\nThe district of Locarno -LRB- also called Locarnese -RRB- is a district of Canton Ticino , Switzerland .',\n",
              "       \"PG&E Corp. shares were up 39 cents or 2.6 percent at $15.59 on the New York Stock Exchange on Tuesday.\\nPG&E's shares gained 24 cents to $15.44 during Tuesday's trading on the New York Stock Exchange.\",\n",
              "       'I managed to parse my way through because the story was good.\\nAs this book already has a surprisingly high number of five star reviews I have no problem with giving it a three based on editing.',\n",
              "       'A man wearing a white shirt and blue kilt dances with a woman in a green dress.\\nA boy with curly hair and a black shirt is balancing on his skateboard on a ledge.',\n",
              "       'A woman with ripped jeans and boots is playing a street game.\\nA large group of people gather outside a very busy street.',\n",
              "       \"I highly recommend that you read this book.\\nThis is the first book I've read in months...\",\n",
              "       \"Long Hollow is a tributary of the creek.\\nThe creek's watershed has an area of 7.2 square miles (19 km2).\",\n",
              "       \"If you were thinking about getting it, DON'T!\\nIf you were planning on getting it, I strongly recommend that you reconsider.\",\n",
              "       'Man standing in front on automated turn stile.\\nA woman standing in front of a beach scene and smiling.',\n",
              "       \"There were quite a few twists in Invaded that left me shocked and dying to find out more.\\nCara had figured out who was trying to ruin the alliance, and that they weren't what they appeared to be.\",\n",
              "       'Galena has three schools .\\nGalena is a city in Alaska .',\n",
              "       'I think she would like flowers, dinner, and chocolate!\\nI think she would appreciate flowers, dinner, and chocolate.',\n",
              "       'The engine produced 55 hp (41 kW), giving the car a 90 km/h (56 mph) top speed.\\nThe engine is front-mounted engine with rear-wheel drive.',\n",
              "       'Wacko Jacko is a sick man and look at his poor children.\\nWacko Jacko is unwell; observe his pitiful children.',\n",
              "       'A quick research (1, 2) showed me that the concentration of caffeine seems to peak about 30-60mins after ingestion.\\nThe issue is that it never becomes useful in its true meaning.',\n",
              "       \"I don't think I will be reading the next book in the series.\\nI definitely don't want to spoil anything so I will be writing this review carefully.\",\n",
              "       'the casting directors are stupid or high so they cant think.\\nThe casting directors are inebriated, therefore they cannot think correctly.',\n",
              "       'A masked steel worker in orange works on a piece of metal, yellow sparks flying.\\nAfrican American children playing in a street in front of a yellow car.',\n",
              "       'A man in white playing an instrument outside.\\na man falls out of his kayak.',\n",
              "       \"ca n't you really feel it ?\\nyou seriously do n't smell that ?\",\n",
              "       \"Here's a girl who just is.\\nShe wants nothing from him--not even his attention.\",\n",
              "       \"What can I say I need MORE.\\nI can't say I like this Emma much and he friends are super annoying.\",\n",
              "       'I hope they do not make a mistake like they did with the secondone.\\nYes but do not expect the financial responsibility to fall on my shoulders.',\n",
              "       'Rhesalistis is a monotypic moth genus of the family Erebidae erected by George Hampson in 1926.\\nIts only species, Rhesalistis rotundata, was first described by Rothschild in 1915.',\n",
              "       'The new rings bring the total number of Uranian rings to 13 .\\nAs of 2010 people know that the Uranian ring system have 13 rings .',\n",
              "       'have you ever heard of pajamas ?\\nyou totally drool on her , mate .',\n",
              "       \"When Green tore his ACL in a preseason game , Warner took over as the Rams ' starter .\\nWhen their main quarterback Trent Green was injured in a preseason game , Warner became the starter .\",\n",
              "       'The album included the group\\'s first major international hit, \"Emma\" and \"Disco Queen\".\\nThe album did not contain the song \"Brother Louie\", which had been a US hit for the American band The Stories.',\n",
              "       \"That said, I had a great time living in this book.\\nIt is hard to believe there is anyone left who might want to read The Hunger Games and hasn't.\",\n",
              "       \"Catherine Fournier (born 7 April 1992) is a Canadian politician, who was elected as mayor of Longueuil on November 7, 2021.\\nShe is the third female mayor in the city's history.\",\n",
              "       'Palak is one of the 51 union councils of Abbottabad District in the Hazara province of Pakistan .\\nPalak is one of the 51 Union Councils of Abbottabad District in the North-West Frontier Province of Pakistan .',\n",
              "       'Reading the blurb made me interested in reading this book.\\nAll the emotions this book had made me feel.',\n",
              "       'Second, the music at the end?\\nTowards the end was intense.',\n",
              "       'The language has been inspired , especially EJB3-QL , by the native Hibernate Query Language HQL .\\nThe language has been inspired by the native Hibernate Query Language HQL .',\n",
              "       'thats just how they are :( its a shame lol\\nIt is a shame that they are like that.',\n",
              "       'I feel sorry for the books that I will read after Heir of Fire.\\n: More than one person recommended this book to me.',\n",
              "       'Uwe Seeler -LRB- born 5 November 1936 in Hamburg -RRB- is a former German football official and retired football player .\\nAlain Giresse -LRB- born 2 August 1952 in Langoiran , Gironde -RRB- is a retired French professional football -LRB- soccer -RRB- midfielder .',\n",
              "       'Waco is a city in and the county seat of McLennan County , Texas .\\nIt is the county seat of Morris County .',\n",
              "       'religious extremism continues in pakistan despite the banning of militant groups.\\nreligious extremism continues in pakistan despite the banning of militant groups by the pakistani government.'],\n",
              "      dtype=object)"
            ]
          },
          "execution_count": 20,
          "metadata": {},
          "output_type": "execute_result"
        }
      ],
      "source": [
        "df_str_rel['Text'].values"
      ]
    },
    {
      "cell_type": "code",
      "execution_count": 21,
      "metadata": {
        "colab": {
          "base_uri": "https://localhost:8080/",
          "height": 206
        },
        "id": "2omI6W3pIyXb",
        "outputId": "0db14703-4eee-4a33-cabf-d885c3fc86b0"
      },
      "outputs": [
        {
          "data": {
            "text/html": [
              "<div>\n",
              "<style scoped>\n",
              "    .dataframe tbody tr th:only-of-type {\n",
              "        vertical-align: middle;\n",
              "    }\n",
              "\n",
              "    .dataframe tbody tr th {\n",
              "        vertical-align: top;\n",
              "    }\n",
              "\n",
              "    .dataframe thead th {\n",
              "        text-align: right;\n",
              "    }\n",
              "</style>\n",
              "<table border=\"1\" class=\"dataframe\">\n",
              "  <thead>\n",
              "    <tr style=\"text-align: right;\">\n",
              "      <th></th>\n",
              "      <th>PairID</th>\n",
              "      <th>Text</th>\n",
              "      <th>Score</th>\n",
              "      <th>Split_Text</th>\n",
              "    </tr>\n",
              "  </thead>\n",
              "  <tbody>\n",
              "    <tr>\n",
              "      <th>0</th>\n",
              "      <td>ENG-dev-0000</td>\n",
              "      <td>The story is gripping and interesting.\\nIt's a...</td>\n",
              "      <td>0.64</td>\n",
              "      <td>[The story is gripping and interesting., It's ...</td>\n",
              "    </tr>\n",
              "    <tr>\n",
              "      <th>1</th>\n",
              "      <td>ENG-dev-0001</td>\n",
              "      <td>The majority of Southeast Alaska 's area is pa...</td>\n",
              "      <td>0.61</td>\n",
              "      <td>[The majority of Southeast Alaska 's area is p...</td>\n",
              "    </tr>\n",
              "    <tr>\n",
              "      <th>2</th>\n",
              "      <td>ENG-dev-0002</td>\n",
              "      <td>and from your post i think you are to young to...</td>\n",
              "      <td>0.31</td>\n",
              "      <td>[and from your post i think you are to young t...</td>\n",
              "    </tr>\n",
              "    <tr>\n",
              "      <th>3</th>\n",
              "      <td>ENG-dev-0003</td>\n",
              "      <td>The film 's success also made Dreamworks Anima...</td>\n",
              "      <td>0.59</td>\n",
              "      <td>[The film 's success also made Dreamworks Anim...</td>\n",
              "    </tr>\n",
              "    <tr>\n",
              "      <th>4</th>\n",
              "      <td>ENG-dev-0004</td>\n",
              "      <td>I am still confused about how I feel about thi...</td>\n",
              "      <td>0.50</td>\n",
              "      <td>[I am still confused about how I feel about th...</td>\n",
              "    </tr>\n",
              "  </tbody>\n",
              "</table>\n",
              "</div>"
            ],
            "text/plain": [
              "         PairID                                               Text  Score  \\\n",
              "0  ENG-dev-0000  The story is gripping and interesting.\\nIt's a...   0.64   \n",
              "1  ENG-dev-0001  The majority of Southeast Alaska 's area is pa...   0.61   \n",
              "2  ENG-dev-0002  and from your post i think you are to young to...   0.31   \n",
              "3  ENG-dev-0003  The film 's success also made Dreamworks Anima...   0.59   \n",
              "4  ENG-dev-0004  I am still confused about how I feel about thi...   0.50   \n",
              "\n",
              "                                          Split_Text  \n",
              "0  [The story is gripping and interesting., It's ...  \n",
              "1  [The majority of Southeast Alaska 's area is p...  \n",
              "2  [and from your post i think you are to young t...  \n",
              "3  [The film 's success also made Dreamworks Anim...  \n",
              "4  [I am still confused about how I feel about th...  "
            ]
          },
          "execution_count": 21,
          "metadata": {},
          "output_type": "execute_result"
        }
      ],
      "source": [
        "# Creating a column \"Split_Text\" which is a list of two sentences.\n",
        "df_str_rel['Split_Text'] = df_str_rel['Text'].apply(lambda x: x.split(\"\\n\"))\n",
        "df_str_rel.head()"
      ]
    },
    {
      "cell_type": "code",
      "execution_count": 22,
      "metadata": {},
      "outputs": [
        {
          "name": "stdout",
          "output_type": "stream",
          "text": [
            "Requirement already satisfied: sentence-transformers in c:\\users\\admin\\workspace\\venv\\lib\\site-packages (2.2.2)\n",
            "Requirement already satisfied: transformers<5.0.0,>=4.6.0 in c:\\users\\admin\\workspace\\venv\\lib\\site-packages (from sentence-transformers) (4.33.2)\n",
            "Requirement already satisfied: tqdm in c:\\users\\admin\\workspace\\venv\\lib\\site-packages (from sentence-transformers) (4.66.1)\n",
            "Requirement already satisfied: torch>=1.6.0 in c:\\users\\admin\\workspace\\venv\\lib\\site-packages (from sentence-transformers) (2.0.1)\n",
            "Requirement already satisfied: torchvision in c:\\users\\admin\\workspace\\venv\\lib\\site-packages (from sentence-transformers) (0.15.2)\n",
            "Requirement already satisfied: numpy in c:\\users\\admin\\workspace\\venv\\lib\\site-packages (from sentence-transformers) (1.25.2)\n",
            "Requirement already satisfied: scikit-learn in c:\\users\\admin\\workspace\\venv\\lib\\site-packages (from sentence-transformers) (1.3.1)\n",
            "Requirement already satisfied: scipy in c:\\users\\admin\\workspace\\venv\\lib\\site-packages (from sentence-transformers) (1.11.2)\n",
            "Requirement already satisfied: nltk in c:\\users\\admin\\workspace\\venv\\lib\\site-packages (from sentence-transformers) (3.8.1)\n",
            "Requirement already satisfied: sentencepiece in c:\\users\\admin\\workspace\\venv\\lib\\site-packages (from sentence-transformers) (0.1.99)\n",
            "Requirement already satisfied: huggingface-hub>=0.4.0 in c:\\users\\admin\\workspace\\venv\\lib\\site-packages (from sentence-transformers) (0.17.2)\n",
            "Requirement already satisfied: filelock in c:\\users\\admin\\workspace\\venv\\lib\\site-packages (from huggingface-hub>=0.4.0->sentence-transformers) (3.12.3)\n",
            "Requirement already satisfied: fsspec in c:\\users\\admin\\workspace\\venv\\lib\\site-packages (from huggingface-hub>=0.4.0->sentence-transformers) (2023.9.2)\n",
            "Requirement already satisfied: requests in c:\\users\\admin\\workspace\\venv\\lib\\site-packages (from huggingface-hub>=0.4.0->sentence-transformers) (2.31.0)\n",
            "Requirement already satisfied: pyyaml>=5.1 in c:\\users\\admin\\workspace\\venv\\lib\\site-packages (from huggingface-hub>=0.4.0->sentence-transformers) (6.0.1)\n",
            "Requirement already satisfied: typing-extensions>=3.7.4.3 in c:\\users\\admin\\workspace\\venv\\lib\\site-packages (from huggingface-hub>=0.4.0->sentence-transformers) (4.7.1)\n",
            "Requirement already satisfied: packaging>=20.9 in c:\\users\\admin\\workspace\\venv\\lib\\site-packages (from huggingface-hub>=0.4.0->sentence-transformers) (23.1)\n",
            "Requirement already satisfied: sympy in c:\\users\\admin\\workspace\\venv\\lib\\site-packages (from torch>=1.6.0->sentence-transformers) (1.12)\n",
            "Requirement already satisfied: networkx in c:\\users\\admin\\workspace\\venv\\lib\\site-packages (from torch>=1.6.0->sentence-transformers) (3.1)\n",
            "Requirement already satisfied: jinja2 in c:\\users\\admin\\workspace\\venv\\lib\\site-packages (from torch>=1.6.0->sentence-transformers) (3.1.2)\n",
            "Requirement already satisfied: colorama in c:\\users\\admin\\workspace\\venv\\lib\\site-packages (from tqdm->sentence-transformers) (0.4.6)\n",
            "Requirement already satisfied: regex!=2019.12.17 in c:\\users\\admin\\workspace\\venv\\lib\\site-packages (from transformers<5.0.0,>=4.6.0->sentence-transformers) (2023.8.8)\n",
            "Requirement already satisfied: tokenizers!=0.11.3,<0.14,>=0.11.1 in c:\\users\\admin\\workspace\\venv\\lib\\site-packages (from transformers<5.0.0,>=4.6.0->sentence-transformers) (0.13.3)\n",
            "Requirement already satisfied: safetensors>=0.3.1 in c:\\users\\admin\\workspace\\venv\\lib\\site-packages (from transformers<5.0.0,>=4.6.0->sentence-transformers) (0.3.3)\n",
            "Requirement already satisfied: click in c:\\users\\admin\\workspace\\venv\\lib\\site-packages (from nltk->sentence-transformers) (8.1.7)\n",
            "Requirement already satisfied: joblib in c:\\users\\admin\\workspace\\venv\\lib\\site-packages (from nltk->sentence-transformers) (1.3.2)\n",
            "Requirement already satisfied: threadpoolctl>=2.0.0 in c:\\users\\admin\\workspace\\venv\\lib\\site-packages (from scikit-learn->sentence-transformers) (3.2.0)\n",
            "Requirement already satisfied: pillow!=8.3.*,>=5.3.0 in c:\\users\\admin\\workspace\\venv\\lib\\site-packages (from torchvision->sentence-transformers) (10.0.0)\n",
            "Requirement already satisfied: MarkupSafe>=2.0 in c:\\users\\admin\\workspace\\venv\\lib\\site-packages (from jinja2->torch>=1.6.0->sentence-transformers) (2.1.3)\n",
            "Requirement already satisfied: charset-normalizer<4,>=2 in c:\\users\\admin\\workspace\\venv\\lib\\site-packages (from requests->huggingface-hub>=0.4.0->sentence-transformers) (3.2.0)\n",
            "Requirement already satisfied: idna<4,>=2.5 in c:\\users\\admin\\workspace\\venv\\lib\\site-packages (from requests->huggingface-hub>=0.4.0->sentence-transformers) (3.4)\n",
            "Requirement already satisfied: urllib3<3,>=1.21.1 in c:\\users\\admin\\workspace\\venv\\lib\\site-packages (from requests->huggingface-hub>=0.4.0->sentence-transformers) (2.0.4)\n",
            "Requirement already satisfied: certifi>=2017.4.17 in c:\\users\\admin\\workspace\\venv\\lib\\site-packages (from requests->huggingface-hub>=0.4.0->sentence-transformers) (2023.7.22)\n",
            "Requirement already satisfied: mpmath>=0.19 in c:\\users\\admin\\workspace\\venv\\lib\\site-packages (from sympy->torch>=1.6.0->sentence-transformers) (1.3.0)\n",
            "Note: you may need to restart the kernel to use updated packages.\n"
          ]
        }
      ],
      "source": [
        "pip install -U sentence-transformers"
      ]
    },
    {
      "cell_type": "code",
      "execution_count": 23,
      "metadata": {},
      "outputs": [],
      "source": [
        "from numpy.linalg import norm"
      ]
    },
    {
      "cell_type": "code",
      "execution_count": 24,
      "metadata": {
        "id": "Jtr56u-BIyXc"
      },
      "outputs": [],
      "source": [
        "def dice_score(s1,s2):\n",
        "    from sentence_transformers import SentenceTransformer, util\n",
        "    model = SentenceTransformer('all-mpnet-base-v2')\n",
        "\n",
        "    #Encode all sentences\n",
        "    embeddings1 = model.encode(s1)\n",
        "    embeddings2 = model.encode(s2)\n",
        "\n",
        "    #Compute cosine similarity between all pairs\n",
        "    cosine = np.dot(embeddings1,embeddings2)/(norm(embeddings1)*norm(embeddings2))\n",
        "    return cosine\n",
        "\n",
        "\n",
        "    "
      ]
    },
    {
      "cell_type": "code",
      "execution_count": 25,
      "metadata": {
        "id": "SAMvGhTAIyXc"
      },
      "outputs": [],
      "source": [
        "true_scores = df_str_rel['Score'].values\n",
        "pred_scores = []\n",
        "\n",
        "for index,row in df_str_rel.iterrows():\n",
        "  s1,s2 = row[\"Text\"].split(\"\\n\")\n",
        "  # cosine similarity\n",
        "  pred_scores.append(dice_score(s1,s2)) "
      ]
    },
    {
      "cell_type": "code",
      "execution_count": 30,
      "metadata": {
        "colab": {
          "base_uri": "https://localhost:8080/"
        },
        "id": "oK3FAYWJIyXd",
        "outputId": "7e3c926d-f118-429c-ceb1-8f11f2c902a2"
      },
      "outputs": [
        {
          "name": "stdout",
          "output_type": "stream",
          "text": [
            "Spearman Correlation: 0.79\n"
          ]
        }
      ],
      "source": [
        "# How well does the baseline correlate with human judgments?\n",
        "print(\"Spearman Correlation:\", round(spearmanr(true_scores,pred_scores)[0],2))"
      ]
    },
    {
      "cell_type": "code",
      "execution_count": 27,
      "metadata": {
        "colab": {
          "base_uri": "https://localhost:8080/",
          "height": 206
        },
        "id": "7XpwQ2VrKoY1",
        "outputId": "e22ff073-0b7a-4aed-a18a-55e5f3124958"
      },
      "outputs": [
        {
          "data": {
            "text/html": [
              "<div>\n",
              "<style scoped>\n",
              "    .dataframe tbody tr th:only-of-type {\n",
              "        vertical-align: middle;\n",
              "    }\n",
              "\n",
              "    .dataframe tbody tr th {\n",
              "        vertical-align: top;\n",
              "    }\n",
              "\n",
              "    .dataframe thead th {\n",
              "        text-align: right;\n",
              "    }\n",
              "</style>\n",
              "<table border=\"1\" class=\"dataframe\">\n",
              "  <thead>\n",
              "    <tr style=\"text-align: right;\">\n",
              "      <th></th>\n",
              "      <th>PairID</th>\n",
              "      <th>Text</th>\n",
              "      <th>Score</th>\n",
              "      <th>Split_Text</th>\n",
              "      <th>Pred_Score</th>\n",
              "    </tr>\n",
              "  </thead>\n",
              "  <tbody>\n",
              "    <tr>\n",
              "      <th>0</th>\n",
              "      <td>ENG-dev-0000</td>\n",
              "      <td>The story is gripping and interesting.\\nIt's a...</td>\n",
              "      <td>0.64</td>\n",
              "      <td>[The story is gripping and interesting., It's ...</td>\n",
              "      <td>0.798045</td>\n",
              "    </tr>\n",
              "    <tr>\n",
              "      <th>1</th>\n",
              "      <td>ENG-dev-0001</td>\n",
              "      <td>The majority of Southeast Alaska 's area is pa...</td>\n",
              "      <td>0.61</td>\n",
              "      <td>[The majority of Southeast Alaska 's area is p...</td>\n",
              "      <td>0.632959</td>\n",
              "    </tr>\n",
              "    <tr>\n",
              "      <th>2</th>\n",
              "      <td>ENG-dev-0002</td>\n",
              "      <td>and from your post i think you are to young to...</td>\n",
              "      <td>0.31</td>\n",
              "      <td>[and from your post i think you are to young t...</td>\n",
              "      <td>0.204207</td>\n",
              "    </tr>\n",
              "    <tr>\n",
              "      <th>3</th>\n",
              "      <td>ENG-dev-0003</td>\n",
              "      <td>The film 's success also made Dreamworks Anima...</td>\n",
              "      <td>0.59</td>\n",
              "      <td>[The film 's success also made Dreamworks Anim...</td>\n",
              "      <td>0.807259</td>\n",
              "    </tr>\n",
              "    <tr>\n",
              "      <th>4</th>\n",
              "      <td>ENG-dev-0004</td>\n",
              "      <td>I am still confused about how I feel about thi...</td>\n",
              "      <td>0.50</td>\n",
              "      <td>[I am still confused about how I feel about th...</td>\n",
              "      <td>0.478068</td>\n",
              "    </tr>\n",
              "  </tbody>\n",
              "</table>\n",
              "</div>"
            ],
            "text/plain": [
              "         PairID                                               Text  Score  \\\n",
              "0  ENG-dev-0000  The story is gripping and interesting.\\nIt's a...   0.64   \n",
              "1  ENG-dev-0001  The majority of Southeast Alaska 's area is pa...   0.61   \n",
              "2  ENG-dev-0002  and from your post i think you are to young to...   0.31   \n",
              "3  ENG-dev-0003  The film 's success also made Dreamworks Anima...   0.59   \n",
              "4  ENG-dev-0004  I am still confused about how I feel about thi...   0.50   \n",
              "\n",
              "                                          Split_Text  Pred_Score  \n",
              "0  [The story is gripping and interesting., It's ...    0.798045  \n",
              "1  [The majority of Southeast Alaska 's area is p...    0.632959  \n",
              "2  [and from your post i think you are to young t...    0.204207  \n",
              "3  [The film 's success also made Dreamworks Anim...    0.807259  \n",
              "4  [I am still confused about how I feel about th...    0.478068  "
            ]
          },
          "execution_count": 27,
          "metadata": {},
          "output_type": "execute_result"
        }
      ],
      "source": [
        "df_str_rel['Pred_Score'] = pred_scores\n",
        "df_str_rel.head()"
      ]
    },
    {
      "cell_type": "code",
      "execution_count": 28,
      "metadata": {
        "id": "Z0iEicDx_4BM"
      },
      "outputs": [],
      "source": [
        "df_str_rel[['PairID', 'Pred_Score']].to_csv('pred_pilot_eng.csv', index=False)"
      ]
    },
    {
      "cell_type": "code",
      "execution_count": 29,
      "metadata": {},
      "outputs": [
        {
          "data": {
            "image/png": "[encoded data removed]",
            "text/plain": [
              "<Figure size 640x480 with 1 Axes>"
            ]
          },
          "metadata": {},
          "output_type": "display_data"
        }
      ],
      "source": [
        "import matplotlib.pyplot as plt\n",
        "\n",
        "\n",
        "# Create a scatter plot\n",
        "plt.scatter(pred_scores, true_scores)\n",
        "\n",
        "# Add labels and a title\n",
        "plt.xlabel('Predicted Score')\n",
        "plt.ylabel('True Score')\n",
        "plt.title('Scatter Plot between True Score and Predicted Score')\n",
        "\n",
        "# Display the plot\n",
        "plt.show()\n"
      ]
    }
  ],
  "metadata": {
    "colab": {
      "include_colab_link": true,
      "provenance": []
    },
    "kernelspec": {
      "display_name": "NLP",
      "language": "python",
      "name": "nlp"
    },
    "language_info": {
      "codemirror_mode": {
        "name": "ipython",
        "version": 3
      },
      "file_extension": ".py",
      "mimetype": "text/x-python",
      "name": "python",
      "nbconvert_exporter": "python",
      "pygments_lexer": "ipython3",
      "version": "3.11.5"
    }
  },
  "nbformat": 4,
  "nbformat_minor": 0
}
