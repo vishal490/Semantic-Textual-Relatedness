{
  "nbformat": 4,
  "nbformat_minor": 0,
  "metadata": {
    "colab": {
      "provenance": []
    },
    "kernelspec": {
      "name": "python3",
      "display_name": "Python 3"
    },
    "language_info": {
      "name": "python"
    }
  },
  "cells": [
    {
      "cell_type": "code",
      "execution_count": null,
      "metadata": {
        "id": "_jCyenCl4keX"
      },
      "outputs": [],
      "source": [
        "pip install transformers\n",
        "pip install sentence_transformers\n",
        "pip install scipy"
      ]
    },
    {
      "cell_type": "code",
      "source": [
        "import re\n",
        "import pandas as pd\n",
        "import numpy as np\n",
        "from scipy.stats import spearmanr, pearsonr\n",
        "import matplotlib.pyplot as plt\n",
        "plt.style.use('ggplot')"
      ],
      "metadata": {
        "id": "93AnLxVs5EnW"
      },
      "execution_count": null,
      "outputs": []
    },
    {
      "cell_type": "markdown",
      "source": [
        "Importing the data file and the data was the validation split of training data"
      ],
      "metadata": {
        "id": "CirK3cuosuMz"
      }
    },
    {
      "cell_type": "code",
      "source": [
        "# Load the File\n",
        "df_str_rel = pd.read_csv('/content/drive/MyDrive/val.csv',on_bad_lines='skip')\n",
        "df_str_rel.head()"
      ],
      "metadata": {
        "colab": {
          "base_uri": "https://localhost:8080/",
          "height": 608
        },
        "id": "Q9n8By595JSQ",
        "outputId": "13dda660-02f9-4b65-857d-969191d2211e"
      },
      "execution_count": null,
      "outputs": [
        {
          "output_type": "execute_result",
          "data": {
            "text/plain": [
              "   index                                              Text1  \\\n",
              "0   6913                                 ይህ ደግሞ ቀላል አይሆንም ።   \n",
              "1   6806  መንገድ መሪ ከሆነ ማንኛውም ሰው የሚፈለገው ዋነኛ ባሕርይ እምነት የሚጣል...   \n",
              "2   7283                                     ነገ ሰኔ 16 ነው ፡፡   \n",
              "3   7578                           አንድ ረጅም ልቦለድ እየፃፍኩ ነው ፡፡   \n",
              "4   6939                              ሌላም ችግር አለ ነው ያልኩት ::   \n",
              "\n",
              "                                               Text2   Type Lang  Scores  \\\n",
              "0                                  ያ ደግሞ ቀላል አይደለም ።  train  amh    0.75   \n",
              "1  የበረራ አዲስ መረጃ ፡ ኢትዮጵያን አየርመንገድ አሁንድ ኢስታንቡል እየበረ...  train  amh    0.19   \n",
              "2                   ሰኔ 16/17 ትምህርት ቤት ቢባል ይሻላል :-) !  train  amh    0.36   \n",
              "3                                 ይህ መጽሐፍ ልቦለድ ነው ፡፡  train  amh    0.55   \n",
              "4                               መቼ የት ነው እንዲህ ያልኩት ?  train  amh    0.30   \n",
              "\n",
              "    e5_mean  e5_trained  Labels  Labels_without_training  \\\n",
              "0  0.995844    0.980574       1                        1   \n",
              "1  0.805951    0.320204       0                        1   \n",
              "2  0.898698    0.751506       0                        1   \n",
              "3  0.913872    0.780404       1                        1   \n",
              "4  0.908220    0.451932       0                        1   \n",
              "\n",
              "   Labels_with_training  Unsupervised  Gold Lable  cosine_conti  \\\n",
              "0                     1             1           1      0.981341   \n",
              "1                     0             0           0      0.762803   \n",
              "2                     1             1           0      0.876315   \n",
              "3                     1             1           1      0.875937   \n",
              "4                     0             0           0      0.845621   \n",
              "\n",
              "   cosine_discrete  \n",
              "0                1  \n",
              "1                1  \n",
              "2                1  \n",
              "3                1  \n",
              "4                1  "
            ],
            "text/html": [
              "\n",
              "  <div id=\"df-cb2c7278-ad15-4017-8915-7c24ea3f015e\" class=\"colab-df-container\">\n",
              "    <div>\n",
              "<style scoped>\n",
              "    .dataframe tbody tr th:only-of-type {\n",
              "        vertical-align: middle;\n",
              "    }\n",
              "\n",
              "    .dataframe tbody tr th {\n",
              "        vertical-align: top;\n",
              "    }\n",
              "\n",
              "    .dataframe thead th {\n",
              "        text-align: right;\n",
              "    }\n",
              "</style>\n",
              "<table border=\"1\" class=\"dataframe\">\n",
              "  <thead>\n",
              "    <tr style=\"text-align: right;\">\n",
              "      <th></th>\n",
              "      <th>index</th>\n",
              "      <th>Text1</th>\n",
              "      <th>Text2</th>\n",
              "      <th>Type</th>\n",
              "      <th>Lang</th>\n",
              "      <th>Scores</th>\n",
              "      <th>e5_mean</th>\n",
              "      <th>e5_trained</th>\n",
              "      <th>Labels</th>\n",
              "      <th>Labels_without_training</th>\n",
              "      <th>Labels_with_training</th>\n",
              "      <th>Unsupervised</th>\n",
              "      <th>Gold Lable</th>\n",
              "      <th>cosine_conti</th>\n",
              "      <th>cosine_discrete</th>\n",
              "    </tr>\n",
              "  </thead>\n",
              "  <tbody>\n",
              "    <tr>\n",
              "      <th>0</th>\n",
              "      <td>6913</td>\n",
              "      <td>ይህ ደግሞ ቀላል አይሆንም ።</td>\n",
              "      <td>ያ ደግሞ ቀላል አይደለም ።</td>\n",
              "      <td>train</td>\n",
              "      <td>amh</td>\n",
              "      <td>0.75</td>\n",
              "      <td>0.995844</td>\n",
              "      <td>0.980574</td>\n",
              "      <td>1</td>\n",
              "      <td>1</td>\n",
              "      <td>1</td>\n",
              "      <td>1</td>\n",
              "      <td>1</td>\n",
              "      <td>0.981341</td>\n",
              "      <td>1</td>\n",
              "    </tr>\n",
              "    <tr>\n",
              "      <th>1</th>\n",
              "      <td>6806</td>\n",
              "      <td>መንገድ መሪ ከሆነ ማንኛውም ሰው የሚፈለገው ዋነኛ ባሕርይ እምነት የሚጣል...</td>\n",
              "      <td>የበረራ አዲስ መረጃ ፡ ኢትዮጵያን አየርመንገድ አሁንድ ኢስታንቡል እየበረ...</td>\n",
              "      <td>train</td>\n",
              "      <td>amh</td>\n",
              "      <td>0.19</td>\n",
              "      <td>0.805951</td>\n",
              "      <td>0.320204</td>\n",
              "      <td>0</td>\n",
              "      <td>1</td>\n",
              "      <td>0</td>\n",
              "      <td>0</td>\n",
              "      <td>0</td>\n",
              "      <td>0.762803</td>\n",
              "      <td>1</td>\n",
              "    </tr>\n",
              "    <tr>\n",
              "      <th>2</th>\n",
              "      <td>7283</td>\n",
              "      <td>ነገ ሰኔ 16 ነው ፡፡</td>\n",
              "      <td>ሰኔ 16/17 ትምህርት ቤት ቢባል ይሻላል :-) !</td>\n",
              "      <td>train</td>\n",
              "      <td>amh</td>\n",
              "      <td>0.36</td>\n",
              "      <td>0.898698</td>\n",
              "      <td>0.751506</td>\n",
              "      <td>0</td>\n",
              "      <td>1</td>\n",
              "      <td>1</td>\n",
              "      <td>1</td>\n",
              "      <td>0</td>\n",
              "      <td>0.876315</td>\n",
              "      <td>1</td>\n",
              "    </tr>\n",
              "    <tr>\n",
              "      <th>3</th>\n",
              "      <td>7578</td>\n",
              "      <td>አንድ ረጅም ልቦለድ እየፃፍኩ ነው ፡፡</td>\n",
              "      <td>ይህ መጽሐፍ ልቦለድ ነው ፡፡</td>\n",
              "      <td>train</td>\n",
              "      <td>amh</td>\n",
              "      <td>0.55</td>\n",
              "      <td>0.913872</td>\n",
              "      <td>0.780404</td>\n",
              "      <td>1</td>\n",
              "      <td>1</td>\n",
              "      <td>1</td>\n",
              "      <td>1</td>\n",
              "      <td>1</td>\n",
              "      <td>0.875937</td>\n",
              "      <td>1</td>\n",
              "    </tr>\n",
              "    <tr>\n",
              "      <th>4</th>\n",
              "      <td>6939</td>\n",
              "      <td>ሌላም ችግር አለ ነው ያልኩት ::</td>\n",
              "      <td>መቼ የት ነው እንዲህ ያልኩት ?</td>\n",
              "      <td>train</td>\n",
              "      <td>amh</td>\n",
              "      <td>0.30</td>\n",
              "      <td>0.908220</td>\n",
              "      <td>0.451932</td>\n",
              "      <td>0</td>\n",
              "      <td>1</td>\n",
              "      <td>0</td>\n",
              "      <td>0</td>\n",
              "      <td>0</td>\n",
              "      <td>0.845621</td>\n",
              "      <td>1</td>\n",
              "    </tr>\n",
              "  </tbody>\n",
              "</table>\n",
              "</div>\n",
              "    <div class=\"colab-df-buttons\">\n",
              "\n",
              "  <div class=\"colab-df-container\">\n",
              "    <button class=\"colab-df-convert\" onclick=\"convertToInteractive('df-cb2c7278-ad15-4017-8915-7c24ea3f015e')\"\n",
              "            title=\"Convert this dataframe to an interactive table.\"\n",
              "            style=\"display:none;\">\n",
              "\n",
              "  <svg xmlns=\"http://www.w3.org/2000/svg\" height=\"24px\" viewBox=\"0 -960 960 960\">\n",
              "    <path d=\"M120-120v-720h720v720H120Zm60-500h600v-160H180v160Zm220 220h160v-160H400v160Zm0 220h160v-160H400v160ZM180-400h160v-160H180v160Zm440 0h160v-160H620v160ZM180-180h160v-160H180v160Zm440 0h160v-160H620v160Z\"/>\n",
              "  </svg>\n",
              "    </button>\n",
              "\n",
              "  <style>\n",
              "    .colab-df-container {\n",
              "      display:flex;\n",
              "      gap: 12px;\n",
              "    }\n",
              "\n",
              "    .colab-df-convert {\n",
              "      background-color: #E8F0FE;\n",
              "      border: none;\n",
              "      border-radius: 50%;\n",
              "      cursor: pointer;\n",
              "      display: none;\n",
              "      fill: #1967D2;\n",
              "      height: 32px;\n",
              "      padding: 0 0 0 0;\n",
              "      width: 32px;\n",
              "    }\n",
              "\n",
              "    .colab-df-convert:hover {\n",
              "      background-color: #E2EBFA;\n",
              "      box-shadow: 0px 1px 2px rgba(60, 64, 67, 0.3), 0px 1px 3px 1px rgba(60, 64, 67, 0.15);\n",
              "      fill: #174EA6;\n",
              "    }\n",
              "\n",
              "    .colab-df-buttons div {\n",
              "      margin-bottom: 4px;\n",
              "    }\n",
              "\n",
              "    [theme=dark] .colab-df-convert {\n",
              "      background-color: #3B4455;\n",
              "      fill: #D2E3FC;\n",
              "    }\n",
              "\n",
              "    [theme=dark] .colab-df-convert:hover {\n",
              "      background-color: #434B5C;\n",
              "      box-shadow: 0px 1px 3px 1px rgba(0, 0, 0, 0.15);\n",
              "      filter: drop-shadow(0px 1px 2px rgba(0, 0, 0, 0.3));\n",
              "      fill: #FFFFFF;\n",
              "    }\n",
              "  </style>\n",
              "\n",
              "    <script>\n",
              "      const buttonEl =\n",
              "        document.querySelector('#df-cb2c7278-ad15-4017-8915-7c24ea3f015e button.colab-df-convert');\n",
              "      buttonEl.style.display =\n",
              "        google.colab.kernel.accessAllowed ? 'block' : 'none';\n",
              "\n",
              "      async function convertToInteractive(key) {\n",
              "        const element = document.querySelector('#df-cb2c7278-ad15-4017-8915-7c24ea3f015e');\n",
              "        const dataTable =\n",
              "          await google.colab.kernel.invokeFunction('convertToInteractive',\n",
              "                                                    [key], {});\n",
              "        if (!dataTable) return;\n",
              "\n",
              "        const docLinkHtml = 'Like what you see? Visit the ' +\n",
              "          '<a target=\"_blank\" href=https://colab.research.google.com/notebooks/data_table.ipynb>data table notebook</a>'\n",
              "          + ' to learn more about interactive tables.';\n",
              "        element.innerHTML = '';\n",
              "        dataTable['output_type'] = 'display_data';\n",
              "        await google.colab.output.renderOutput(dataTable, element);\n",
              "        const docLink = document.createElement('div');\n",
              "        docLink.innerHTML = docLinkHtml;\n",
              "        element.appendChild(docLink);\n",
              "      }\n",
              "    </script>\n",
              "  </div>\n",
              "\n",
              "\n",
              "<div id=\"df-a5d65571-ce63-424d-8bc8-ec2ec30f1297\">\n",
              "  <button class=\"colab-df-quickchart\" onclick=\"quickchart('df-a5d65571-ce63-424d-8bc8-ec2ec30f1297')\"\n",
              "            title=\"Suggest charts.\"\n",
              "            style=\"display:none;\">\n",
              "\n",
              "<svg xmlns=\"http://www.w3.org/2000/svg\" height=\"24px\"viewBox=\"0 0 24 24\"\n",
              "     width=\"24px\">\n",
              "    <g>\n",
              "        <path d=\"M19 3H5c-1.1 0-2 .9-2 2v14c0 1.1.9 2 2 2h14c1.1 0 2-.9 2-2V5c0-1.1-.9-2-2-2zM9 17H7v-7h2v7zm4 0h-2V7h2v10zm4 0h-2v-4h2v4z\"/>\n",
              "    </g>\n",
              "</svg>\n",
              "  </button>\n",
              "\n",
              "<style>\n",
              "  .colab-df-quickchart {\n",
              "      --bg-color: #E8F0FE;\n",
              "      --fill-color: #1967D2;\n",
              "      --hover-bg-color: #E2EBFA;\n",
              "      --hover-fill-color: #174EA6;\n",
              "      --disabled-fill-color: #AAA;\n",
              "      --disabled-bg-color: #DDD;\n",
              "  }\n",
              "\n",
              "  [theme=dark] .colab-df-quickchart {\n",
              "      --bg-color: #3B4455;\n",
              "      --fill-color: #D2E3FC;\n",
              "      --hover-bg-color: #434B5C;\n",
              "      --hover-fill-color: #FFFFFF;\n",
              "      --disabled-bg-color: #3B4455;\n",
              "      --disabled-fill-color: #666;\n",
              "  }\n",
              "\n",
              "  .colab-df-quickchart {\n",
              "    background-color: var(--bg-color);\n",
              "    border: none;\n",
              "    border-radius: 50%;\n",
              "    cursor: pointer;\n",
              "    display: none;\n",
              "    fill: var(--fill-color);\n",
              "    height: 32px;\n",
              "    padding: 0;\n",
              "    width: 32px;\n",
              "  }\n",
              "\n",
              "  .colab-df-quickchart:hover {\n",
              "    background-color: var(--hover-bg-color);\n",
              "    box-shadow: 0 1px 2px rgba(60, 64, 67, 0.3), 0 1px 3px 1px rgba(60, 64, 67, 0.15);\n",
              "    fill: var(--button-hover-fill-color);\n",
              "  }\n",
              "\n",
              "  .colab-df-quickchart-complete:disabled,\n",
              "  .colab-df-quickchart-complete:disabled:hover {\n",
              "    background-color: var(--disabled-bg-color);\n",
              "    fill: var(--disabled-fill-color);\n",
              "    box-shadow: none;\n",
              "  }\n",
              "\n",
              "  .colab-df-spinner {\n",
              "    border: 2px solid var(--fill-color);\n",
              "    border-color: transparent;\n",
              "    border-bottom-color: var(--fill-color);\n",
              "    animation:\n",
              "      spin 1s steps(1) infinite;\n",
              "  }\n",
              "\n",
              "  @keyframes spin {\n",
              "    0% {\n",
              "      border-color: transparent;\n",
              "      border-bottom-color: var(--fill-color);\n",
              "      border-left-color: var(--fill-color);\n",
              "    }\n",
              "    20% {\n",
              "      border-color: transparent;\n",
              "      border-left-color: var(--fill-color);\n",
              "      border-top-color: var(--fill-color);\n",
              "    }\n",
              "    30% {\n",
              "      border-color: transparent;\n",
              "      border-left-color: var(--fill-color);\n",
              "      border-top-color: var(--fill-color);\n",
              "      border-right-color: var(--fill-color);\n",
              "    }\n",
              "    40% {\n",
              "      border-color: transparent;\n",
              "      border-right-color: var(--fill-color);\n",
              "      border-top-color: var(--fill-color);\n",
              "    }\n",
              "    60% {\n",
              "      border-color: transparent;\n",
              "      border-right-color: var(--fill-color);\n",
              "    }\n",
              "    80% {\n",
              "      border-color: transparent;\n",
              "      border-right-color: var(--fill-color);\n",
              "      border-bottom-color: var(--fill-color);\n",
              "    }\n",
              "    90% {\n",
              "      border-color: transparent;\n",
              "      border-bottom-color: var(--fill-color);\n",
              "    }\n",
              "  }\n",
              "</style>\n",
              "\n",
              "  <script>\n",
              "    async function quickchart(key) {\n",
              "      const quickchartButtonEl =\n",
              "        document.querySelector('#' + key + ' button');\n",
              "      quickchartButtonEl.disabled = true;  // To prevent multiple clicks.\n",
              "      quickchartButtonEl.classList.add('colab-df-spinner');\n",
              "      try {\n",
              "        const charts = await google.colab.kernel.invokeFunction(\n",
              "            'suggestCharts', [key], {});\n",
              "      } catch (error) {\n",
              "        console.error('Error during call to suggestCharts:', error);\n",
              "      }\n",
              "      quickchartButtonEl.classList.remove('colab-df-spinner');\n",
              "      quickchartButtonEl.classList.add('colab-df-quickchart-complete');\n",
              "    }\n",
              "    (() => {\n",
              "      let quickchartButtonEl =\n",
              "        document.querySelector('#df-a5d65571-ce63-424d-8bc8-ec2ec30f1297 button');\n",
              "      quickchartButtonEl.style.display =\n",
              "        google.colab.kernel.accessAllowed ? 'block' : 'none';\n",
              "    })();\n",
              "  </script>\n",
              "</div>\n",
              "    </div>\n",
              "  </div>\n"
            ]
          },
          "metadata": {},
          "execution_count": 112
        }
      ]
    },
    {
      "cell_type": "markdown",
      "source": [
        "Thresholding the true lable at 0.5 above as 1 else 0 and storing it to data file with column name as Gold Lable"
      ],
      "metadata": {
        "id": "jL9F-S-ZtPYo"
      }
    },
    {
      "cell_type": "code",
      "source": [
        "gold_lable=[]\n",
        "for t in df_str_rel['Scores']:\n",
        "  if(t>0.5):\n",
        "    gold_lable.append(1)\n",
        "  else:\n",
        "    gold_lable.append(0)"
      ],
      "metadata": {
        "id": "6jLF-R755cTi"
      },
      "execution_count": null,
      "outputs": []
    },
    {
      "cell_type": "code",
      "source": [
        "df_str_rel['Gold Lable']=gold_lable\n",
        "df_str_rel.to_csv('/content/drive/MyDrive/val.csv', index=False)"
      ],
      "metadata": {
        "id": "XLnUaSD5uLYJ"
      },
      "execution_count": null,
      "outputs": []
    },
    {
      "cell_type": "markdown",
      "source": [
        "Extracting text from the data file as two input sentences list"
      ],
      "metadata": {
        "id": "8qp85A44uqtS"
      }
    },
    {
      "cell_type": "code",
      "source": [
        "input1=[]\n",
        "input2=[]\n",
        "for index,row in df_str_rel.iterrows():\n",
        "  s1= row[\"Text1\"]\n",
        "  s2= row[\"Text2\"]\n",
        "  input1.append(s1)\n",
        "  input2.append(s2)\n",
        "len(input1)"
      ],
      "metadata": {
        "colab": {
          "base_uri": "https://localhost:8080/"
        },
        "id": "ZgW4r5v95hTH",
        "outputId": "680672ef-61c1-4107-b305-addd82b5105c"
      },
      "execution_count": null,
      "outputs": [
        {
          "output_type": "execute_result",
          "data": {
            "text/plain": [
              "1160"
            ]
          },
          "metadata": {},
          "execution_count": 115
        }
      ]
    },
    {
      "cell_type": "markdown",
      "source": [
        "Creating cluster by DBSCAN and thresholding as 1 if belong to same cluster else 0 then adding this column in data file"
      ],
      "metadata": {
        "id": "EusgkXCmu8O8"
      }
    },
    {
      "cell_type": "code",
      "source": [
        "from sklearn.cluster import DBSCAN\n",
        "import numpy as np"
      ],
      "metadata": {
        "id": "id9XMs896P1T"
      },
      "execution_count": null,
      "outputs": []
    },
    {
      "cell_type": "code",
      "source": [
        "from sentence_transformers import SentenceTransformer\n",
        "model = SentenceTransformer('intfloat/multilingual-e5-large')"
      ],
      "metadata": {
        "id": "rGKcMqE56SvB"
      },
      "execution_count": null,
      "outputs": []
    },
    {
      "cell_type": "code",
      "source": [
        "pred_lable=[]\n",
        "for i in range(len(input1)):\n",
        "  embeddings = model.encode([input1[i],input2[i]], normalize_embeddings=True)\n",
        "  clustering = DBSCAN(eps=0.5, min_samples=2).fit(embeddings)\n",
        "  if((clustering.labels_)[0]==0):\n",
        "    pred_lable.append(1)\n",
        "  else:\n",
        "    pred_lable.append(0)"
      ],
      "metadata": {
        "id": "EbWhcTXR6WkC"
      },
      "execution_count": null,
      "outputs": []
    },
    {
      "cell_type": "code",
      "source": [
        "df_str_rel['Unsupervised'] =pred_lable\n",
        "df_str_rel.to_csv('/content/drive/MyDrive/val.csv', index=False)"
      ],
      "metadata": {
        "id": "d8uON6Huviqs"
      },
      "execution_count": null,
      "outputs": []
    },
    {
      "cell_type": "markdown",
      "source": [
        "calculating the accuracy score between unsupervised discrete score and true discrete score"
      ],
      "metadata": {
        "id": "u7r1cL9F5oaG"
      }
    },
    {
      "cell_type": "code",
      "source": [
        "from sklearn.metrics import accuracy_score\n",
        "accuracy_score(df_str_rel['Unsupervised'], df_str_rel['Gold Lable'])"
      ],
      "metadata": {
        "colab": {
          "base_uri": "https://localhost:8080/"
        },
        "id": "hzTlDLYx5m6G",
        "outputId": "c892fc8f-0097-4a69-90d8-810139d87bfa"
      },
      "execution_count": null,
      "outputs": [
        {
          "output_type": "execute_result",
          "data": {
            "text/plain": [
              "0.7827586206896552"
            ]
          },
          "metadata": {},
          "execution_count": 120
        }
      ]
    },
    {
      "cell_type": "markdown",
      "source": [
        "calculating the accuracy score between unsupervised discrete score and true discrete score for all lang seprately"
      ],
      "metadata": {
        "id": "f02cPO6C6Ue2"
      }
    },
    {
      "cell_type": "code",
      "source": [
        "accuracy_for_each_lang=[]\n",
        "for lang, lang_df in df_str_rel.groupby(by='Lang'):\n",
        "  accuracy_for_each_lang.append(accuracy_score(lang_df['Gold Lable'], lang_df['Unsupervised']))"
      ],
      "metadata": {
        "id": "iuaA2ujY6TbW"
      },
      "execution_count": null,
      "outputs": []
    },
    {
      "cell_type": "code",
      "source": [
        "print(accuracy_for_each_lang)"
      ],
      "metadata": {
        "colab": {
          "base_uri": "https://localhost:8080/"
        },
        "id": "N3U2sA1a6iS3",
        "outputId": "615e2f27-5a69-431d-acd7-96a000ce2c9a"
      },
      "execution_count": null,
      "outputs": [
        {
          "output_type": "stream",
          "name": "stdout",
          "text": [
            "[0.7070707070707071, 0.58, 0.8327272727272728, 0.7241379310344828, 0.8, 0.8547008547008547]\n"
          ]
        }
      ]
    },
    {
      "cell_type": "markdown",
      "source": [
        "Storing the embeddings for all sentence pairs"
      ],
      "metadata": {
        "id": "RMaBVPRRzi5p"
      }
    },
    {
      "cell_type": "code",
      "source": [
        "import tensorflow as tf\n",
        "a = np.zeros(shape=(1160, 2, 1024))\n",
        "for i in range(len(input1)):\n",
        "  embeddings = model.encode([input1[i],input2[i]], normalize_embeddings=True)\n",
        "  a[i] = embeddings"
      ],
      "metadata": {
        "id": "UNqEkspvRbm7"
      },
      "execution_count": null,
      "outputs": []
    },
    {
      "cell_type": "markdown",
      "source": [
        "calculating the cosine similarity between two sentence pair embedding and storing it to data file with column name as"
      ],
      "metadata": {
        "id": "Dmpm30hpzz95"
      }
    },
    {
      "cell_type": "code",
      "source": [
        "import numpy as np\n",
        "from sklearn.metrics.pairwise import cosine_similarity\n",
        "cosine_pred_lable=[]\n",
        "# Example embeddings (1-D arrays)\n",
        "for i in a:\n",
        "  embedding1 = i[0]\n",
        "  embedding2 = i[1]\n",
        "\n",
        "# Reshape the embeddings to 2-D arrays to match the input format of cosine_similarity\n",
        "  embedding1 = embedding1.reshape(1, -1)\n",
        "  embedding2 = embedding2.reshape(1, -1)\n",
        "\n",
        "# Compute the cosine similarity\n",
        "  cosine_sim = cosine_similarity(embedding1, embedding2)\n",
        "  cosine_pred_lable.append(cosine_sim[0][0])\n",
        "\n"
      ],
      "metadata": {
        "id": "jjV0p3wMikzw"
      },
      "execution_count": null,
      "outputs": []
    },
    {
      "cell_type": "code",
      "source": [
        "df_str_rel['cosine_conti']=cosine_pred_lable\n",
        "df_str_rel.to_csv('/content/drive/MyDrive/val.csv', index=False)"
      ],
      "metadata": {
        "id": "ZLuxiXC01_mm"
      },
      "execution_count": null,
      "outputs": []
    },
    {
      "cell_type": "markdown",
      "source": [
        "Thresholding the cosine similarity score into discrete lable 0 and 1 and storing into data file with column name as cosine_discrete"
      ],
      "metadata": {
        "id": "QpdZI4wR2IZj"
      }
    },
    {
      "cell_type": "code",
      "source": [
        "cosine_pred_lable1=[]\n",
        "for t in df_str_rel['cosine_conti']:\n",
        "  if(t>0.5):\n",
        "    cosine_pred_lable1.append(1)\n",
        "  else:\n",
        "    cosine_pred_lable1.append(0)"
      ],
      "metadata": {
        "id": "MyYrD_4EkGEB"
      },
      "execution_count": null,
      "outputs": []
    },
    {
      "cell_type": "code",
      "source": [
        "df_str_rel['cosine_discrete']=cosine_pred_lable1\n",
        "df_str_rel.to_csv('/content/drive/MyDrive/val.csv', index=False)"
      ],
      "metadata": {
        "id": "g1DLgAWr4IoV"
      },
      "execution_count": null,
      "outputs": []
    },
    {
      "cell_type": "markdown",
      "source": [
        "calculating acurracy score between cosine discrete and gold lable discrete"
      ],
      "metadata": {
        "id": "EiD2Yr5f4NjI"
      }
    },
    {
      "cell_type": "code",
      "source": [
        "from sklearn.metrics import accuracy_score\n",
        "accuracy_score(df_str_rel['cosine_discrete'], df_str_rel['Gold Lable'])"
      ],
      "metadata": {
        "colab": {
          "base_uri": "https://localhost:8080/"
        },
        "id": "2IVxcwqRl_yQ",
        "outputId": "854b8347-e214-480f-ea97-af769ed48492"
      },
      "execution_count": null,
      "outputs": [
        {
          "output_type": "execute_result",
          "data": {
            "text/plain": [
              "0.4387931034482759"
            ]
          },
          "metadata": {},
          "execution_count": 99
        }
      ]
    },
    {
      "cell_type": "markdown",
      "source": [
        "calculating spearman caorrelation coffecient between cosine continues score and continues true score"
      ],
      "metadata": {
        "id": "djPrtohU4oeY"
      }
    },
    {
      "cell_type": "code",
      "source": [
        "import scipy\n",
        "print(scipy.stats.spearmanr(df_str_rel['cosine_conti'],df_str_rel['Scores'])[0])"
      ],
      "metadata": {
        "colab": {
          "base_uri": "https://localhost:8080/"
        },
        "id": "IJ4ZFf_fp9_6",
        "outputId": "5dc1750e-dd87-4337-9723-4f46f0371e12"
      },
      "execution_count": null,
      "outputs": [
        {
          "output_type": "stream",
          "name": "stdout",
          "text": [
            "0.7112934980709242\n"
          ]
        }
      ]
    },
    {
      "cell_type": "code",
      "source": [
        "df_str_rel.head()"
      ],
      "metadata": {
        "colab": {
          "base_uri": "https://localhost:8080/",
          "height": 608
        },
        "id": "8flAb3NBJAsn",
        "outputId": "08a94b3b-fb96-413f-9758-f54873500bd4"
      },
      "execution_count": null,
      "outputs": [
        {
          "output_type": "execute_result",
          "data": {
            "text/plain": [
              "   index                                              Text1  \\\n",
              "0   6913                                 ይህ ደግሞ ቀላል አይሆንም ።   \n",
              "1   6806  መንገድ መሪ ከሆነ ማንኛውም ሰው የሚፈለገው ዋነኛ ባሕርይ እምነት የሚጣል...   \n",
              "2   7283                                     ነገ ሰኔ 16 ነው ፡፡   \n",
              "3   7578                           አንድ ረጅም ልቦለድ እየፃፍኩ ነው ፡፡   \n",
              "4   6939                              ሌላም ችግር አለ ነው ያልኩት ::   \n",
              "\n",
              "                                               Text2   Type Lang  Scores  \\\n",
              "0                                  ያ ደግሞ ቀላል አይደለም ።  train  amh    0.75   \n",
              "1  የበረራ አዲስ መረጃ ፡ ኢትዮጵያን አየርመንገድ አሁንድ ኢስታንቡል እየበረ...  train  amh    0.19   \n",
              "2                   ሰኔ 16/17 ትምህርት ቤት ቢባል ይሻላል :-) !  train  amh    0.36   \n",
              "3                                 ይህ መጽሐፍ ልቦለድ ነው ፡፡  train  amh    0.55   \n",
              "4                               መቼ የት ነው እንዲህ ያልኩት ?  train  amh    0.30   \n",
              "\n",
              "    e5_mean  e5_trained  Labels  Labels_without_training  \\\n",
              "0  0.995844    0.980574       1                        1   \n",
              "1  0.805951    0.320204       0                        1   \n",
              "2  0.898698    0.751506       0                        1   \n",
              "3  0.913872    0.780404       1                        1   \n",
              "4  0.908220    0.451932       0                        1   \n",
              "\n",
              "   Labels_with_training  Unsupervised  Gold Lable  cosine_conti  \\\n",
              "0                     1             1           1      0.981341   \n",
              "1                     0             0           0      0.762803   \n",
              "2                     1             1           0      0.876315   \n",
              "3                     1             1           1      0.875937   \n",
              "4                     0             0           0      0.845621   \n",
              "\n",
              "   cosine_discrete  \n",
              "0                1  \n",
              "1                1  \n",
              "2                1  \n",
              "3                1  \n",
              "4                1  "
            ],
            "text/html": [
              "\n",
              "  <div id=\"df-8a726ed2-925e-49c6-bf64-2570a7ae4e8d\" class=\"colab-df-container\">\n",
              "    <div>\n",
              "<style scoped>\n",
              "    .dataframe tbody tr th:only-of-type {\n",
              "        vertical-align: middle;\n",
              "    }\n",
              "\n",
              "    .dataframe tbody tr th {\n",
              "        vertical-align: top;\n",
              "    }\n",
              "\n",
              "    .dataframe thead th {\n",
              "        text-align: right;\n",
              "    }\n",
              "</style>\n",
              "<table border=\"1\" class=\"dataframe\">\n",
              "  <thead>\n",
              "    <tr style=\"text-align: right;\">\n",
              "      <th></th>\n",
              "      <th>index</th>\n",
              "      <th>Text1</th>\n",
              "      <th>Text2</th>\n",
              "      <th>Type</th>\n",
              "      <th>Lang</th>\n",
              "      <th>Scores</th>\n",
              "      <th>e5_mean</th>\n",
              "      <th>e5_trained</th>\n",
              "      <th>Labels</th>\n",
              "      <th>Labels_without_training</th>\n",
              "      <th>Labels_with_training</th>\n",
              "      <th>Unsupervised</th>\n",
              "      <th>Gold Lable</th>\n",
              "      <th>cosine_conti</th>\n",
              "      <th>cosine_discrete</th>\n",
              "    </tr>\n",
              "  </thead>\n",
              "  <tbody>\n",
              "    <tr>\n",
              "      <th>0</th>\n",
              "      <td>6913</td>\n",
              "      <td>ይህ ደግሞ ቀላል አይሆንም ።</td>\n",
              "      <td>ያ ደግሞ ቀላል አይደለም ።</td>\n",
              "      <td>train</td>\n",
              "      <td>amh</td>\n",
              "      <td>0.75</td>\n",
              "      <td>0.995844</td>\n",
              "      <td>0.980574</td>\n",
              "      <td>1</td>\n",
              "      <td>1</td>\n",
              "      <td>1</td>\n",
              "      <td>1</td>\n",
              "      <td>1</td>\n",
              "      <td>0.981341</td>\n",
              "      <td>1</td>\n",
              "    </tr>\n",
              "    <tr>\n",
              "      <th>1</th>\n",
              "      <td>6806</td>\n",
              "      <td>መንገድ መሪ ከሆነ ማንኛውም ሰው የሚፈለገው ዋነኛ ባሕርይ እምነት የሚጣል...</td>\n",
              "      <td>የበረራ አዲስ መረጃ ፡ ኢትዮጵያን አየርመንገድ አሁንድ ኢስታንቡል እየበረ...</td>\n",
              "      <td>train</td>\n",
              "      <td>amh</td>\n",
              "      <td>0.19</td>\n",
              "      <td>0.805951</td>\n",
              "      <td>0.320204</td>\n",
              "      <td>0</td>\n",
              "      <td>1</td>\n",
              "      <td>0</td>\n",
              "      <td>0</td>\n",
              "      <td>0</td>\n",
              "      <td>0.762803</td>\n",
              "      <td>1</td>\n",
              "    </tr>\n",
              "    <tr>\n",
              "      <th>2</th>\n",
              "      <td>7283</td>\n",
              "      <td>ነገ ሰኔ 16 ነው ፡፡</td>\n",
              "      <td>ሰኔ 16/17 ትምህርት ቤት ቢባል ይሻላል :-) !</td>\n",
              "      <td>train</td>\n",
              "      <td>amh</td>\n",
              "      <td>0.36</td>\n",
              "      <td>0.898698</td>\n",
              "      <td>0.751506</td>\n",
              "      <td>0</td>\n",
              "      <td>1</td>\n",
              "      <td>1</td>\n",
              "      <td>1</td>\n",
              "      <td>0</td>\n",
              "      <td>0.876315</td>\n",
              "      <td>1</td>\n",
              "    </tr>\n",
              "    <tr>\n",
              "      <th>3</th>\n",
              "      <td>7578</td>\n",
              "      <td>አንድ ረጅም ልቦለድ እየፃፍኩ ነው ፡፡</td>\n",
              "      <td>ይህ መጽሐፍ ልቦለድ ነው ፡፡</td>\n",
              "      <td>train</td>\n",
              "      <td>amh</td>\n",
              "      <td>0.55</td>\n",
              "      <td>0.913872</td>\n",
              "      <td>0.780404</td>\n",
              "      <td>1</td>\n",
              "      <td>1</td>\n",
              "      <td>1</td>\n",
              "      <td>1</td>\n",
              "      <td>1</td>\n",
              "      <td>0.875937</td>\n",
              "      <td>1</td>\n",
              "    </tr>\n",
              "    <tr>\n",
              "      <th>4</th>\n",
              "      <td>6939</td>\n",
              "      <td>ሌላም ችግር አለ ነው ያልኩት ::</td>\n",
              "      <td>መቼ የት ነው እንዲህ ያልኩት ?</td>\n",
              "      <td>train</td>\n",
              "      <td>amh</td>\n",
              "      <td>0.30</td>\n",
              "      <td>0.908220</td>\n",
              "      <td>0.451932</td>\n",
              "      <td>0</td>\n",
              "      <td>1</td>\n",
              "      <td>0</td>\n",
              "      <td>0</td>\n",
              "      <td>0</td>\n",
              "      <td>0.845621</td>\n",
              "      <td>1</td>\n",
              "    </tr>\n",
              "  </tbody>\n",
              "</table>\n",
              "</div>\n",
              "    <div class=\"colab-df-buttons\">\n",
              "\n",
              "  <div class=\"colab-df-container\">\n",
              "    <button class=\"colab-df-convert\" onclick=\"convertToInteractive('df-8a726ed2-925e-49c6-bf64-2570a7ae4e8d')\"\n",
              "            title=\"Convert this dataframe to an interactive table.\"\n",
              "            style=\"display:none;\">\n",
              "\n",
              "  <svg xmlns=\"http://www.w3.org/2000/svg\" height=\"24px\" viewBox=\"0 -960 960 960\">\n",
              "    <path d=\"M120-120v-720h720v720H120Zm60-500h600v-160H180v160Zm220 220h160v-160H400v160Zm0 220h160v-160H400v160ZM180-400h160v-160H180v160Zm440 0h160v-160H620v160ZM180-180h160v-160H180v160Zm440 0h160v-160H620v160Z\"/>\n",
              "  </svg>\n",
              "    </button>\n",
              "\n",
              "  <style>\n",
              "    .colab-df-container {\n",
              "      display:flex;\n",
              "      gap: 12px;\n",
              "    }\n",
              "\n",
              "    .colab-df-convert {\n",
              "      background-color: #E8F0FE;\n",
              "      border: none;\n",
              "      border-radius: 50%;\n",
              "      cursor: pointer;\n",
              "      display: none;\n",
              "      fill: #1967D2;\n",
              "      height: 32px;\n",
              "      padding: 0 0 0 0;\n",
              "      width: 32px;\n",
              "    }\n",
              "\n",
              "    .colab-df-convert:hover {\n",
              "      background-color: #E2EBFA;\n",
              "      box-shadow: 0px 1px 2px rgba(60, 64, 67, 0.3), 0px 1px 3px 1px rgba(60, 64, 67, 0.15);\n",
              "      fill: #174EA6;\n",
              "    }\n",
              "\n",
              "    .colab-df-buttons div {\n",
              "      margin-bottom: 4px;\n",
              "    }\n",
              "\n",
              "    [theme=dark] .colab-df-convert {\n",
              "      background-color: #3B4455;\n",
              "      fill: #D2E3FC;\n",
              "    }\n",
              "\n",
              "    [theme=dark] .colab-df-convert:hover {\n",
              "      background-color: #434B5C;\n",
              "      box-shadow: 0px 1px 3px 1px rgba(0, 0, 0, 0.15);\n",
              "      filter: drop-shadow(0px 1px 2px rgba(0, 0, 0, 0.3));\n",
              "      fill: #FFFFFF;\n",
              "    }\n",
              "  </style>\n",
              "\n",
              "    <script>\n",
              "      const buttonEl =\n",
              "        document.querySelector('#df-8a726ed2-925e-49c6-bf64-2570a7ae4e8d button.colab-df-convert');\n",
              "      buttonEl.style.display =\n",
              "        google.colab.kernel.accessAllowed ? 'block' : 'none';\n",
              "\n",
              "      async function convertToInteractive(key) {\n",
              "        const element = document.querySelector('#df-8a726ed2-925e-49c6-bf64-2570a7ae4e8d');\n",
              "        const dataTable =\n",
              "          await google.colab.kernel.invokeFunction('convertToInteractive',\n",
              "                                                    [key], {});\n",
              "        if (!dataTable) return;\n",
              "\n",
              "        const docLinkHtml = 'Like what you see? Visit the ' +\n",
              "          '<a target=\"_blank\" href=https://colab.research.google.com/notebooks/data_table.ipynb>data table notebook</a>'\n",
              "          + ' to learn more about interactive tables.';\n",
              "        element.innerHTML = '';\n",
              "        dataTable['output_type'] = 'display_data';\n",
              "        await google.colab.output.renderOutput(dataTable, element);\n",
              "        const docLink = document.createElement('div');\n",
              "        docLink.innerHTML = docLinkHtml;\n",
              "        element.appendChild(docLink);\n",
              "      }\n",
              "    </script>\n",
              "  </div>\n",
              "\n",
              "\n",
              "<div id=\"df-7dcfafb3-e921-4c33-9ed1-616786bbc8da\">\n",
              "  <button class=\"colab-df-quickchart\" onclick=\"quickchart('df-7dcfafb3-e921-4c33-9ed1-616786bbc8da')\"\n",
              "            title=\"Suggest charts.\"\n",
              "            style=\"display:none;\">\n",
              "\n",
              "<svg xmlns=\"http://www.w3.org/2000/svg\" height=\"24px\"viewBox=\"0 0 24 24\"\n",
              "     width=\"24px\">\n",
              "    <g>\n",
              "        <path d=\"M19 3H5c-1.1 0-2 .9-2 2v14c0 1.1.9 2 2 2h14c1.1 0 2-.9 2-2V5c0-1.1-.9-2-2-2zM9 17H7v-7h2v7zm4 0h-2V7h2v10zm4 0h-2v-4h2v4z\"/>\n",
              "    </g>\n",
              "</svg>\n",
              "  </button>\n",
              "\n",
              "<style>\n",
              "  .colab-df-quickchart {\n",
              "      --bg-color: #E8F0FE;\n",
              "      --fill-color: #1967D2;\n",
              "      --hover-bg-color: #E2EBFA;\n",
              "      --hover-fill-color: #174EA6;\n",
              "      --disabled-fill-color: #AAA;\n",
              "      --disabled-bg-color: #DDD;\n",
              "  }\n",
              "\n",
              "  [theme=dark] .colab-df-quickchart {\n",
              "      --bg-color: #3B4455;\n",
              "      --fill-color: #D2E3FC;\n",
              "      --hover-bg-color: #434B5C;\n",
              "      --hover-fill-color: #FFFFFF;\n",
              "      --disabled-bg-color: #3B4455;\n",
              "      --disabled-fill-color: #666;\n",
              "  }\n",
              "\n",
              "  .colab-df-quickchart {\n",
              "    background-color: var(--bg-color);\n",
              "    border: none;\n",
              "    border-radius: 50%;\n",
              "    cursor: pointer;\n",
              "    display: none;\n",
              "    fill: var(--fill-color);\n",
              "    height: 32px;\n",
              "    padding: 0;\n",
              "    width: 32px;\n",
              "  }\n",
              "\n",
              "  .colab-df-quickchart:hover {\n",
              "    background-color: var(--hover-bg-color);\n",
              "    box-shadow: 0 1px 2px rgba(60, 64, 67, 0.3), 0 1px 3px 1px rgba(60, 64, 67, 0.15);\n",
              "    fill: var(--button-hover-fill-color);\n",
              "  }\n",
              "\n",
              "  .colab-df-quickchart-complete:disabled,\n",
              "  .colab-df-quickchart-complete:disabled:hover {\n",
              "    background-color: var(--disabled-bg-color);\n",
              "    fill: var(--disabled-fill-color);\n",
              "    box-shadow: none;\n",
              "  }\n",
              "\n",
              "  .colab-df-spinner {\n",
              "    border: 2px solid var(--fill-color);\n",
              "    border-color: transparent;\n",
              "    border-bottom-color: var(--fill-color);\n",
              "    animation:\n",
              "      spin 1s steps(1) infinite;\n",
              "  }\n",
              "\n",
              "  @keyframes spin {\n",
              "    0% {\n",
              "      border-color: transparent;\n",
              "      border-bottom-color: var(--fill-color);\n",
              "      border-left-color: var(--fill-color);\n",
              "    }\n",
              "    20% {\n",
              "      border-color: transparent;\n",
              "      border-left-color: var(--fill-color);\n",
              "      border-top-color: var(--fill-color);\n",
              "    }\n",
              "    30% {\n",
              "      border-color: transparent;\n",
              "      border-left-color: var(--fill-color);\n",
              "      border-top-color: var(--fill-color);\n",
              "      border-right-color: var(--fill-color);\n",
              "    }\n",
              "    40% {\n",
              "      border-color: transparent;\n",
              "      border-right-color: var(--fill-color);\n",
              "      border-top-color: var(--fill-color);\n",
              "    }\n",
              "    60% {\n",
              "      border-color: transparent;\n",
              "      border-right-color: var(--fill-color);\n",
              "    }\n",
              "    80% {\n",
              "      border-color: transparent;\n",
              "      border-right-color: var(--fill-color);\n",
              "      border-bottom-color: var(--fill-color);\n",
              "    }\n",
              "    90% {\n",
              "      border-color: transparent;\n",
              "      border-bottom-color: var(--fill-color);\n",
              "    }\n",
              "  }\n",
              "</style>\n",
              "\n",
              "  <script>\n",
              "    async function quickchart(key) {\n",
              "      const quickchartButtonEl =\n",
              "        document.querySelector('#' + key + ' button');\n",
              "      quickchartButtonEl.disabled = true;  // To prevent multiple clicks.\n",
              "      quickchartButtonEl.classList.add('colab-df-spinner');\n",
              "      try {\n",
              "        const charts = await google.colab.kernel.invokeFunction(\n",
              "            'suggestCharts', [key], {});\n",
              "      } catch (error) {\n",
              "        console.error('Error during call to suggestCharts:', error);\n",
              "      }\n",
              "      quickchartButtonEl.classList.remove('colab-df-spinner');\n",
              "      quickchartButtonEl.classList.add('colab-df-quickchart-complete');\n",
              "    }\n",
              "    (() => {\n",
              "      let quickchartButtonEl =\n",
              "        document.querySelector('#df-7dcfafb3-e921-4c33-9ed1-616786bbc8da button');\n",
              "      quickchartButtonEl.style.display =\n",
              "        google.colab.kernel.accessAllowed ? 'block' : 'none';\n",
              "    })();\n",
              "  </script>\n",
              "</div>\n",
              "    </div>\n",
              "  </div>\n"
            ]
          },
          "metadata": {},
          "execution_count": 110
        }
      ]
    }
  ]
}