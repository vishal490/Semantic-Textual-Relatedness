{
 "cells": [
  {
   "cell_type": "code",
   "execution_count": 1,
   "id": "34ea44c9-43b8-424b-a1a8-eda0730e7cc1",
   "metadata": {},
   "outputs": [],
   "source": [
    "import re\n",
    "import pandas as pd\n",
    "import numpy as np\n",
    "from scipy.stats import spearmanr, pearsonr\n",
    "import matplotlib.pyplot as plt\n",
    "# plt.style.use('ggplot')"
   ]
  },
  {
   "cell_type": "code",
   "execution_count": 2,
   "id": "dc0d1a47-6b80-44ac-bb02-b0f73c86c102",
   "metadata": {},
   "outputs": [
    {
     "data": {
      "text/html": [
       "<div>\n",
       "<style scoped>\n",
       "    .dataframe tbody tr th:only-of-type {\n",
       "        vertical-align: middle;\n",
       "    }\n",
       "\n",
       "    .dataframe tbody tr th {\n",
       "        vertical-align: top;\n",
       "    }\n",
       "\n",
       "    .dataframe thead th {\n",
       "        text-align: right;\n",
       "    }\n",
       "</style>\n",
       "<table border=\"1\" class=\"dataframe\">\n",
       "  <thead>\n",
       "    <tr style=\"text-align: right;\">\n",
       "      <th></th>\n",
       "      <th>PairID</th>\n",
       "      <th>Text</th>\n",
       "      <th>Score</th>\n",
       "    </tr>\n",
       "  </thead>\n",
       "  <tbody>\n",
       "    <tr>\n",
       "      <th>0</th>\n",
       "      <td>ENG-dev-0000</td>\n",
       "      <td>The story is gripping and interesting.\\nIt's a...</td>\n",
       "      <td>0.64</td>\n",
       "    </tr>\n",
       "    <tr>\n",
       "      <th>1</th>\n",
       "      <td>ENG-dev-0001</td>\n",
       "      <td>The majority of Southeast Alaska 's area is pa...</td>\n",
       "      <td>0.61</td>\n",
       "    </tr>\n",
       "    <tr>\n",
       "      <th>2</th>\n",
       "      <td>ENG-dev-0002</td>\n",
       "      <td>and from your post i think you are to young to...</td>\n",
       "      <td>0.31</td>\n",
       "    </tr>\n",
       "    <tr>\n",
       "      <th>3</th>\n",
       "      <td>ENG-dev-0003</td>\n",
       "      <td>The film 's success also made Dreamworks Anima...</td>\n",
       "      <td>0.59</td>\n",
       "    </tr>\n",
       "    <tr>\n",
       "      <th>4</th>\n",
       "      <td>ENG-dev-0004</td>\n",
       "      <td>I am still confused about how I feel about thi...</td>\n",
       "      <td>0.50</td>\n",
       "    </tr>\n",
       "  </tbody>\n",
       "</table>\n",
       "</div>"
      ],
      "text/plain": [
       "         PairID                                               Text  Score\n",
       "0  ENG-dev-0000  The story is gripping and interesting.\\nIt's a...   0.64\n",
       "1  ENG-dev-0001  The majority of Southeast Alaska 's area is pa...   0.61\n",
       "2  ENG-dev-0002  and from your post i think you are to young to...   0.31\n",
       "3  ENG-dev-0003  The film 's success also made Dreamworks Anima...   0.59\n",
       "4  ENG-dev-0004  I am still confused about how I feel about thi...   0.50"
      ]
     },
     "execution_count": 2,
     "metadata": {},
     "output_type": "execute_result"
    }
   ],
   "source": [
    "# Load the File\n",
    "df_str_rel = pd.read_csv('C:\\\\Users\\\\moink\\\\OneDrive\\\\Desktop\\\\ReserchProject\\\\Task A\\\\eng\\\\eng_train.csv', usecols=['PairID','Text','Score'])\n",
    "df_str_rel.head()"
   ]
  },
  {
   "cell_type": "code",
   "execution_count": 3,
   "id": "fc213dfa-f674-49c5-8900-938a4922c1f5",
   "metadata": {},
   "outputs": [
    {
     "data": {
      "text/plain": [
       "250"
      ]
     },
     "execution_count": 3,
     "metadata": {},
     "output_type": "execute_result"
    }
   ],
   "source": [
    "len(df_str_rel)"
   ]
  },
  {
   "cell_type": "code",
   "execution_count": 4,
   "id": "82248cc3-1386-4f86-ae7d-b468e24a38c4",
   "metadata": {
    "scrolled": true
   },
   "outputs": [],
   "source": [
    "# df_str_rel['Text'].values"
   ]
  },
  {
   "cell_type": "code",
   "execution_count": 5,
   "id": "3520416b-348b-4af3-a749-60153efa5120",
   "metadata": {},
   "outputs": [
    {
     "data": {
      "text/html": [
       "<div>\n",
       "<style scoped>\n",
       "    .dataframe tbody tr th:only-of-type {\n",
       "        vertical-align: middle;\n",
       "    }\n",
       "\n",
       "    .dataframe tbody tr th {\n",
       "        vertical-align: top;\n",
       "    }\n",
       "\n",
       "    .dataframe thead th {\n",
       "        text-align: right;\n",
       "    }\n",
       "</style>\n",
       "<table border=\"1\" class=\"dataframe\">\n",
       "  <thead>\n",
       "    <tr style=\"text-align: right;\">\n",
       "      <th></th>\n",
       "      <th>PairID</th>\n",
       "      <th>Text</th>\n",
       "      <th>Score</th>\n",
       "      <th>Split_Text</th>\n",
       "    </tr>\n",
       "  </thead>\n",
       "  <tbody>\n",
       "    <tr>\n",
       "      <th>0</th>\n",
       "      <td>ENG-dev-0000</td>\n",
       "      <td>The story is gripping and interesting.\\nIt's a...</td>\n",
       "      <td>0.64</td>\n",
       "      <td>[The story is gripping and interesting., It's ...</td>\n",
       "    </tr>\n",
       "    <tr>\n",
       "      <th>1</th>\n",
       "      <td>ENG-dev-0001</td>\n",
       "      <td>The majority of Southeast Alaska 's area is pa...</td>\n",
       "      <td>0.61</td>\n",
       "      <td>[The majority of Southeast Alaska 's area is p...</td>\n",
       "    </tr>\n",
       "    <tr>\n",
       "      <th>2</th>\n",
       "      <td>ENG-dev-0002</td>\n",
       "      <td>and from your post i think you are to young to...</td>\n",
       "      <td>0.31</td>\n",
       "      <td>[and from your post i think you are to young t...</td>\n",
       "    </tr>\n",
       "    <tr>\n",
       "      <th>3</th>\n",
       "      <td>ENG-dev-0003</td>\n",
       "      <td>The film 's success also made Dreamworks Anima...</td>\n",
       "      <td>0.59</td>\n",
       "      <td>[The film 's success also made Dreamworks Anim...</td>\n",
       "    </tr>\n",
       "    <tr>\n",
       "      <th>4</th>\n",
       "      <td>ENG-dev-0004</td>\n",
       "      <td>I am still confused about how I feel about thi...</td>\n",
       "      <td>0.50</td>\n",
       "      <td>[I am still confused about how I feel about th...</td>\n",
       "    </tr>\n",
       "  </tbody>\n",
       "</table>\n",
       "</div>"
      ],
      "text/plain": [
       "         PairID                                               Text  Score   \n",
       "0  ENG-dev-0000  The story is gripping and interesting.\\nIt's a...   0.64  \\\n",
       "1  ENG-dev-0001  The majority of Southeast Alaska 's area is pa...   0.61   \n",
       "2  ENG-dev-0002  and from your post i think you are to young to...   0.31   \n",
       "3  ENG-dev-0003  The film 's success also made Dreamworks Anima...   0.59   \n",
       "4  ENG-dev-0004  I am still confused about how I feel about thi...   0.50   \n",
       "\n",
       "                                          Split_Text  \n",
       "0  [The story is gripping and interesting., It's ...  \n",
       "1  [The majority of Southeast Alaska 's area is p...  \n",
       "2  [and from your post i think you are to young t...  \n",
       "3  [The film 's success also made Dreamworks Anim...  \n",
       "4  [I am still confused about how I feel about th...  "
      ]
     },
     "execution_count": 5,
     "metadata": {},
     "output_type": "execute_result"
    }
   ],
   "source": [
    "# Creating a column \"Split_Text\" which is a list of two sentences.\n",
    "df_str_rel['Split_Text'] = df_str_rel['Text'].apply(lambda x: x.split(\"\\n\"))\n",
    "df_str_rel.head()"
   ]
  },
  {
   "cell_type": "code",
   "execution_count": 6,
   "id": "2354a0e8-6f6c-48eb-bf0a-55f3b80dd38f",
   "metadata": {},
   "outputs": [],
   "source": [
    "def dice_score(s1,s2):\n",
    "  s1 = s1.lower()\n",
    "  s1_split = re.findall(r\"\\w+|[^\\w\\s]\", s1, re.UNICODE)\n",
    "\n",
    "  s2 = s2.lower()\n",
    "  s2_split = re.findall(r\"\\w+|[^\\w\\s]\", s2, re.UNICODE)\n",
    "\n",
    "  dice_coef = len(set(s1_split).intersection(set(s2_split))) / (len(set(s1_split)) + len(set(s2_split)))\n",
    "  return round(dice_coef, 2)"
   ]
  },
  {
   "cell_type": "code",
   "execution_count": 7,
   "id": "b8380bab-b254-4919-bee2-615a198bcecb",
   "metadata": {},
   "outputs": [],
   "source": [
    "true_scores = df_str_rel['Score'].values\n",
    "pred_scores = []\n",
    "\n",
    "for index,row in df_str_rel.iterrows():\n",
    "\n",
    "  s1,s2 = row[\"Text\"].split(\"\\n\")\n",
    "\n",
    "  # Overlap score\n",
    "  pred_scores.append(dice_score(s1,s2))"
   ]
  },
  {
   "cell_type": "code",
   "execution_count": null,
   "id": "c94a58f8-cabe-4d58-96ed-f4e625870884",
   "metadata": {},
   "outputs": [],
   "source": []
  },
  {
   "cell_type": "markdown",
   "id": "c8daa4f9-8bf6-4dc3-8cf6-23b2e65f8b06",
   "metadata": {},
   "source": [
    "# Calculating pearson correlation based on common words between sentences"
   ]
  },
  {
   "cell_type": "code",
   "execution_count": 8,
   "id": "16b1a95a-3ce8-450d-a451-986d9f124897",
   "metadata": {},
   "outputs": [
    {
     "name": "stdout",
     "output_type": "stream",
     "text": [
      "Pearson Correlation: 0.63\n"
     ]
    }
   ],
   "source": [
    "# How well does the baseline correlate with human judgments?\n",
    "print(\"Pearson Correlation:\", round(spearmanr(true_scores,pred_scores)[0],2))"
   ]
  },
  {
   "cell_type": "code",
   "execution_count": 9,
   "id": "5ed0ef60-1e01-423a-b66d-1e4efd843ba9",
   "metadata": {},
   "outputs": [
    {
     "data": {
      "text/html": [
       "<div>\n",
       "<style scoped>\n",
       "    .dataframe tbody tr th:only-of-type {\n",
       "        vertical-align: middle;\n",
       "    }\n",
       "\n",
       "    .dataframe tbody tr th {\n",
       "        vertical-align: top;\n",
       "    }\n",
       "\n",
       "    .dataframe thead th {\n",
       "        text-align: right;\n",
       "    }\n",
       "</style>\n",
       "<table border=\"1\" class=\"dataframe\">\n",
       "  <thead>\n",
       "    <tr style=\"text-align: right;\">\n",
       "      <th></th>\n",
       "      <th>PairID</th>\n",
       "      <th>Text</th>\n",
       "      <th>Score</th>\n",
       "      <th>Split_Text</th>\n",
       "      <th>Pred_Score</th>\n",
       "    </tr>\n",
       "  </thead>\n",
       "  <tbody>\n",
       "    <tr>\n",
       "      <th>0</th>\n",
       "      <td>ENG-dev-0000</td>\n",
       "      <td>The story is gripping and interesting.\\nIt's a...</td>\n",
       "      <td>0.64</td>\n",
       "      <td>[The story is gripping and interesting., It's ...</td>\n",
       "      <td>0.17</td>\n",
       "    </tr>\n",
       "    <tr>\n",
       "      <th>1</th>\n",
       "      <td>ENG-dev-0001</td>\n",
       "      <td>The majority of Southeast Alaska 's area is pa...</td>\n",
       "      <td>0.61</td>\n",
       "      <td>[The majority of Southeast Alaska 's area is p...</td>\n",
       "      <td>0.31</td>\n",
       "    </tr>\n",
       "    <tr>\n",
       "      <th>2</th>\n",
       "      <td>ENG-dev-0002</td>\n",
       "      <td>and from your post i think you are to young to...</td>\n",
       "      <td>0.31</td>\n",
       "      <td>[and from your post i think you are to young t...</td>\n",
       "      <td>0.14</td>\n",
       "    </tr>\n",
       "    <tr>\n",
       "      <th>3</th>\n",
       "      <td>ENG-dev-0003</td>\n",
       "      <td>The film 's success also made Dreamworks Anima...</td>\n",
       "      <td>0.59</td>\n",
       "      <td>[The film 's success also made Dreamworks Anim...</td>\n",
       "      <td>0.22</td>\n",
       "    </tr>\n",
       "    <tr>\n",
       "      <th>4</th>\n",
       "      <td>ENG-dev-0004</td>\n",
       "      <td>I am still confused about how I feel about thi...</td>\n",
       "      <td>0.50</td>\n",
       "      <td>[I am still confused about how I feel about th...</td>\n",
       "      <td>0.12</td>\n",
       "    </tr>\n",
       "  </tbody>\n",
       "</table>\n",
       "</div>"
      ],
      "text/plain": [
       "         PairID                                               Text  Score   \n",
       "0  ENG-dev-0000  The story is gripping and interesting.\\nIt's a...   0.64  \\\n",
       "1  ENG-dev-0001  The majority of Southeast Alaska 's area is pa...   0.61   \n",
       "2  ENG-dev-0002  and from your post i think you are to young to...   0.31   \n",
       "3  ENG-dev-0003  The film 's success also made Dreamworks Anima...   0.59   \n",
       "4  ENG-dev-0004  I am still confused about how I feel about thi...   0.50   \n",
       "\n",
       "                                          Split_Text  Pred_Score  \n",
       "0  [The story is gripping and interesting., It's ...        0.17  \n",
       "1  [The majority of Southeast Alaska 's area is p...        0.31  \n",
       "2  [and from your post i think you are to young t...        0.14  \n",
       "3  [The film 's success also made Dreamworks Anim...        0.22  \n",
       "4  [I am still confused about how I feel about th...        0.12  "
      ]
     },
     "execution_count": 9,
     "metadata": {},
     "output_type": "execute_result"
    }
   ],
   "source": [
    "df_str_rel['Pred_Score'] = pred_scores\n",
    "df_str_rel.head()"
   ]
  },
  {
   "cell_type": "code",
   "execution_count": 10,
   "id": "9a7278b6-af3b-4179-ac86-77c4917baa96",
   "metadata": {},
   "outputs": [],
   "source": [
    "df_str_rel[['PairID', 'Pred_Score']].to_csv('pred_eng.csv', index=False)"
   ]
  },
  {
   "cell_type": "code",
   "execution_count": 11,
   "id": "e63e68c0-f9e4-4686-a99d-caa3ab1b40e0",
   "metadata": {},
   "outputs": [
    {
     "data": {
      "text/plain": [
       "250"
      ]
     },
     "execution_count": 11,
     "metadata": {},
     "output_type": "execute_result"
    }
   ],
   "source": [
    "import pandas as pd\n",
    "\n",
    "# Convert the DataFrame to a list of tuples\n",
    "data = [tuple(x) for x in df_str_rel.to_records(index=False)]\n",
    "\n",
    "# Now, data_list contains the data from the DataFrame as a list of tuples\n",
    "len(data)"
   ]
  },
  {
   "cell_type": "code",
   "execution_count": 12,
   "id": "20b39b3e-7ce2-44da-8b6a-f0ce2d625078",
   "metadata": {},
   "outputs": [
    {
     "data": {
      "image/png": "[encoded data removed]",
      "text/plain": [
       "<Figure size 800x400 with 1 Axes>"
      ]
     },
     "metadata": {},
     "output_type": "display_data"
    }
   ],
   "source": [
    "import matplotlib.pyplot as plt\n",
    "\n",
    "# Extract the scores\n",
    "scores = [item[2] for item in data]\n",
    "# print(scores)\n",
    "# Create a histogram to show the score distribution\n",
    "plt.figure(figsize=(8, 4))\n",
    "plt.hist(scores, bins=10, color='skyblue', edgecolor='black', alpha=0.7)\n",
    "plt.xlabel('Score')\n",
    "plt.ylabel('Count')\n",
    "plt.title('Distribution of Semantic Textual Relatedness Scores for Telugu sentence pairs')\n",
    "plt.grid(axis='y', linestyle='--', alpha=0.7)\n",
    "plt.show()\n"
   ]
  }
 ],
 "metadata": {
  "kernelspec": {
   "display_name": "Python 3 (ipykernel)",
   "language": "python",
   "name": "python3"
  },
  "language_info": {
   "codemirror_mode": {
    "name": "ipython",
    "version": 3
   },
   "file_extension": ".py",
   "mimetype": "text/x-python",
   "name": "python",
   "nbconvert_exporter": "python",
   "pygments_lexer": "ipython3",
   "version": "3.11.3"
  }
 },
 "nbformat": 4,
 "nbformat_minor": 5
}
