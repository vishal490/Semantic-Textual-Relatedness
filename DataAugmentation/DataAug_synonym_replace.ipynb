{
 "cells": [
  {
   "cell_type": "code",
   "execution_count": null,
   "id": "a7fc1b01-ed42-4ad9-b606-40ff2addb496",
   "metadata": {},
   "outputs": [],
   "source": [
    "pip install transformers\n"
   ]
  },
  {
   "cell_type": "code",
   "execution_count": 7,
   "id": "32c1825d-5d6a-4891-81a7-9ca946d68734",
   "metadata": {},
   "outputs": [
    {
     "name": "stdout",
     "output_type": "stream",
     "text": [
      "ENG-dev-0000,\" The story gripping and interesting\"\n",
      "ENG-dev-0001,\" The story gripping and interesting\"\n",
      "ENG-dev-0002,\" The story fascinate and interesting\"\n"
     ]
    },
    {
     "name": "stderr",
     "output_type": "stream",
     "text": [
      "[nltk_data] Downloading package wordnet to\n",
      "[nltk_data]     C:\\Users\\moink\\AppData\\Roaming\\nltk_data...\n",
      "[nltk_data]   Package wordnet is already up-to-date!\n",
      "[nltk_data] Downloading package averaged_perceptron_tagger to\n",
      "[nltk_data]     C:\\Users\\moink\\AppData\\Roaming\\nltk_data...\n",
      "[nltk_data]   Package averaged_perceptron_tagger is already up-to-\n",
      "[nltk_data]       date!\n",
      "[nltk_data] Downloading package punkt to\n",
      "[nltk_data]     C:\\Users\\moink\\AppData\\Roaming\\nltk_data...\n",
      "[nltk_data]   Package punkt is already up-to-date!\n"
     ]
    }
   ],
   "source": [
    "import nltk\n",
    "from nltk.corpus import wordnet\n",
    "import random\n",
    "\n",
    "# Sample data\n",
    "data = [\n",
    "    \" The story gripping and interesting\",\n",
    "    \n",
    "    \n",
    "    # Add more sentences from your data here\n",
    "]\n",
    "\n",
    "# Initialize the NLTK WordNet\n",
    "nltk.download('wordnet')\n",
    "nltk.download('averaged_perceptron_tagger')\n",
    "nltk.download('punkt')\n",
    "\n",
    "# Function to get synonyms using WordNet\n",
    "def get_synonyms(word):\n",
    "    synonyms = []\n",
    "    for syn in wordnet.synsets(word):\n",
    "        for lemma in syn.lemmas():\n",
    "            synonyms.append(lemma.name())\n",
    "    return synonyms\n",
    "\n",
    "# Function to perform synonym replacement\n",
    "def synonym_replacement(sentence, n=1):\n",
    "    words = sentence.split()\n",
    "    new_sentence = sentence\n",
    "\n",
    "    for _ in range(n):\n",
    "        word_to_replace = random.choice(words)\n",
    "        synonyms = get_synonyms(word_to_replace)\n",
    "        if synonyms:\n",
    "            synonym = random.choice(synonyms)\n",
    "            new_sentence = new_sentence.replace(word_to_replace, synonym, 1)\n",
    "\n",
    "    return new_sentence\n",
    "\n",
    "# Function to perform data augmentation\n",
    "def augment_data(data, num_augmentations=2):\n",
    "    augmented_data = []\n",
    "\n",
    "    for sentence in data:\n",
    "        augmented_data.append(sentence)\n",
    "\n",
    "        for _ in range(num_augmentations):\n",
    "            augmented_sentence = synonym_replacement(sentence)\n",
    "            augmented_data.append(augmented_sentence)\n",
    "\n",
    "    return augmented_data\n",
    "\n",
    "# Augment the data\n",
    "augmented_data = augment_data(data, num_augmentations=2)\n",
    "\n",
    "# Print the augmented data\n",
    "for i, sentence in enumerate(augmented_data):\n",
    "    print(f\"ENG-dev-{i:04d},\\\"{sentence}\\\"\")\n",
    "\n"
   ]
  },
  {
   "cell_type": "code",
   "execution_count": null,
   "id": "f86ac81e-bff0-4273-8efa-41337b78adee",
   "metadata": {},
   "outputs": [],
   "source": []
  },
  {
   "cell_type": "code",
   "execution_count": null,
   "id": "829fd718-02cf-4849-abb5-f2fd4457ca7b",
   "metadata": {},
   "outputs": [],
   "source": []
  },
  {
   "cell_type": "code",
   "execution_count": null,
   "id": "93850e62-ee7e-4547-bdb6-314f71235925",
   "metadata": {},
   "outputs": [],
   "source": []
  }
 ],
 "metadata": {
  "kernelspec": {
   "display_name": "Python 3 (ipykernel)",
   "language": "python",
   "name": "python3"
  },
  "language_info": {
   "codemirror_mode": {
    "name": "ipython",
    "version": 3
   },
   "file_extension": ".py",
   "mimetype": "text/x-python",
   "name": "python",
   "nbconvert_exporter": "python",
   "pygments_lexer": "ipython3",
   "version": "3.11.3"
  }
 },
 "nbformat": 4,
 "nbformat_minor": 5
}
