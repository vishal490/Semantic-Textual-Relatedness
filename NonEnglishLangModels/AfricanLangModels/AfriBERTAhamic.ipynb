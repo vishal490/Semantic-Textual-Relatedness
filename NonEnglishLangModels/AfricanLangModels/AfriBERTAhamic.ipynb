{
 "cells": [
  {
   "cell_type": "code",
   "execution_count": 1,
   "metadata": {},
   "outputs": [],
   "source": [
    "import re\n",
    "import pandas as pd\n",
    "import numpy as np\n",
    "from scipy.stats import spearmanr, pearsonr\n",
    "import matplotlib.pyplot as plt\n",
    "plt.style.use('ggplot')"
   ]
  },
  {
   "cell_type": "code",
   "execution_count": 2,
   "metadata": {},
   "outputs": [
    {
     "data": {
      "text/html": [
       "<div>\n",
       "<style scoped>\n",
       "    .dataframe tbody tr th:only-of-type {\n",
       "        vertical-align: middle;\n",
       "    }\n",
       "\n",
       "    .dataframe tbody tr th {\n",
       "        vertical-align: top;\n",
       "    }\n",
       "\n",
       "    .dataframe thead th {\n",
       "        text-align: right;\n",
       "    }\n",
       "</style>\n",
       "<table border=\"1\" class=\"dataframe\">\n",
       "  <thead>\n",
       "    <tr style=\"text-align: right;\">\n",
       "      <th></th>\n",
       "      <th>PairID</th>\n",
       "      <th>Text</th>\n",
       "      <th>Score</th>\n",
       "    </tr>\n",
       "  </thead>\n",
       "  <tbody>\n",
       "    <tr>\n",
       "      <th>0</th>\n",
       "      <td>Pair_ID_amh_train_1</td>\n",
       "      <td>መግለጫውን የተከታተለው የአዲስ አበባው ዘጋቢያችን ሰሎሞን ሙጬ ዝርዝር ዘ...</td>\n",
       "      <td>0.88</td>\n",
       "    </tr>\n",
       "    <tr>\n",
       "      <th>1</th>\n",
       "      <td>Pair_ID_amh_train_2</td>\n",
       "      <td>የኛ ዴሞክራሲ የእንግሊዝ ስርዓት ነው ፤ ለጊዜው ሊያገለግል ይችላል ።\\t...</td>\n",
       "      <td>0.25</td>\n",
       "    </tr>\n",
       "    <tr>\n",
       "      <th>2</th>\n",
       "      <td>Pair_ID_amh_train_3</td>\n",
       "      <td>በዛሬው ጊዜ ከፍቅራዊ ደግነቱ መጠቀም የምንችለውስ እንዴት ነው ?\\tጥንቃ...</td>\n",
       "      <td>0.36</td>\n",
       "    </tr>\n",
       "    <tr>\n",
       "      <th>3</th>\n",
       "      <td>Pair_ID_amh_train_4</td>\n",
       "      <td>ግን ምን አይነት ቁልፍ ?\\tምን አይነት ፍቅር ነዉ ?</td>\n",
       "      <td>0.27</td>\n",
       "    </tr>\n",
       "    <tr>\n",
       "      <th>4</th>\n",
       "      <td>Pair_ID_amh_train_5</td>\n",
       "      <td>ምን አይነት ተንኮለኛ ነው ?\\tአጭር ሰው ግን የምር ተንኮለኛ ነው ?</td>\n",
       "      <td>0.56</td>\n",
       "    </tr>\n",
       "  </tbody>\n",
       "</table>\n",
       "</div>"
      ],
      "text/plain": [
       "                PairID                                               Text  \\\n",
       "0  Pair_ID_amh_train_1  መግለጫውን የተከታተለው የአዲስ አበባው ዘጋቢያችን ሰሎሞን ሙጬ ዝርዝር ዘ...   \n",
       "1  Pair_ID_amh_train_2  የኛ ዴሞክራሲ የእንግሊዝ ስርዓት ነው ፤ ለጊዜው ሊያገለግል ይችላል ።\\t...   \n",
       "2  Pair_ID_amh_train_3  በዛሬው ጊዜ ከፍቅራዊ ደግነቱ መጠቀም የምንችለውስ እንዴት ነው ?\\tጥንቃ...   \n",
       "3  Pair_ID_amh_train_4                 ግን ምን አይነት ቁልፍ ?\\tምን አይነት ፍቅር ነዉ ?   \n",
       "4  Pair_ID_amh_train_5       ምን አይነት ተንኮለኛ ነው ?\\tአጭር ሰው ግን የምር ተንኮለኛ ነው ?   \n",
       "\n",
       "   Score  \n",
       "0   0.88  \n",
       "1   0.25  \n",
       "2   0.36  \n",
       "3   0.27  \n",
       "4   0.56  "
      ]
     },
     "execution_count": 2,
     "metadata": {},
     "output_type": "execute_result"
    }
   ],
   "source": [
    "df_str_rel = pd.read_csv('C:\\\\Users\\\\ADMIN\\\\Downloads\\\\amh_train.csv')\n",
    "df_str_rel.head()"
   ]
  },
  {
   "cell_type": "code",
   "execution_count": 3,
   "metadata": {},
   "outputs": [
    {
     "data": {
      "text/html": [
       "<div>\n",
       "<style scoped>\n",
       "    .dataframe tbody tr th:only-of-type {\n",
       "        vertical-align: middle;\n",
       "    }\n",
       "\n",
       "    .dataframe tbody tr th {\n",
       "        vertical-align: top;\n",
       "    }\n",
       "\n",
       "    .dataframe thead th {\n",
       "        text-align: right;\n",
       "    }\n",
       "</style>\n",
       "<table border=\"1\" class=\"dataframe\">\n",
       "  <thead>\n",
       "    <tr style=\"text-align: right;\">\n",
       "      <th></th>\n",
       "      <th>PairID</th>\n",
       "      <th>Text</th>\n",
       "      <th>Score</th>\n",
       "      <th>Split_Text</th>\n",
       "    </tr>\n",
       "  </thead>\n",
       "  <tbody>\n",
       "    <tr>\n",
       "      <th>0</th>\n",
       "      <td>Pair_ID_amh_train_1</td>\n",
       "      <td>መግለጫውን የተከታተለው የአዲስ አበባው ዘጋቢያችን ሰሎሞን ሙጬ ዝርዝር ዘ...</td>\n",
       "      <td>0.88</td>\n",
       "      <td>[መግለጫውን የተከታተለው የአዲስ አበባው ዘጋቢያችን ሰሎሞን ሙጬ ዝርዝር ...</td>\n",
       "    </tr>\n",
       "    <tr>\n",
       "      <th>1</th>\n",
       "      <td>Pair_ID_amh_train_2</td>\n",
       "      <td>የኛ ዴሞክራሲ የእንግሊዝ ስርዓት ነው ፤ ለጊዜው ሊያገለግል ይችላል ።\\t...</td>\n",
       "      <td>0.25</td>\n",
       "      <td>[የኛ ዴሞክራሲ የእንግሊዝ ስርዓት ነው ፤ ለጊዜው ሊያገለግል ይችላል ።\\...</td>\n",
       "    </tr>\n",
       "    <tr>\n",
       "      <th>2</th>\n",
       "      <td>Pair_ID_amh_train_3</td>\n",
       "      <td>በዛሬው ጊዜ ከፍቅራዊ ደግነቱ መጠቀም የምንችለውስ እንዴት ነው ?\\tጥንቃ...</td>\n",
       "      <td>0.36</td>\n",
       "      <td>[በዛሬው ጊዜ ከፍቅራዊ ደግነቱ መጠቀም የምንችለውስ እንዴት ነው ?\\tጥን...</td>\n",
       "    </tr>\n",
       "    <tr>\n",
       "      <th>3</th>\n",
       "      <td>Pair_ID_amh_train_4</td>\n",
       "      <td>ግን ምን አይነት ቁልፍ ?\\tምን አይነት ፍቅር ነዉ ?</td>\n",
       "      <td>0.27</td>\n",
       "      <td>[ግን ምን አይነት ቁልፍ ?\\tምን አይነት ፍቅር ነዉ ?]</td>\n",
       "    </tr>\n",
       "    <tr>\n",
       "      <th>4</th>\n",
       "      <td>Pair_ID_amh_train_5</td>\n",
       "      <td>ምን አይነት ተንኮለኛ ነው ?\\tአጭር ሰው ግን የምር ተንኮለኛ ነው ?</td>\n",
       "      <td>0.56</td>\n",
       "      <td>[ምን አይነት ተንኮለኛ ነው ?\\tአጭር ሰው ግን የምር ተንኮለኛ ነው ?]</td>\n",
       "    </tr>\n",
       "  </tbody>\n",
       "</table>\n",
       "</div>"
      ],
      "text/plain": [
       "                PairID                                               Text  \\\n",
       "0  Pair_ID_amh_train_1  መግለጫውን የተከታተለው የአዲስ አበባው ዘጋቢያችን ሰሎሞን ሙጬ ዝርዝር ዘ...   \n",
       "1  Pair_ID_amh_train_2  የኛ ዴሞክራሲ የእንግሊዝ ስርዓት ነው ፤ ለጊዜው ሊያገለግል ይችላል ።\\t...   \n",
       "2  Pair_ID_amh_train_3  በዛሬው ጊዜ ከፍቅራዊ ደግነቱ መጠቀም የምንችለውስ እንዴት ነው ?\\tጥንቃ...   \n",
       "3  Pair_ID_amh_train_4                 ግን ምን አይነት ቁልፍ ?\\tምን አይነት ፍቅር ነዉ ?   \n",
       "4  Pair_ID_amh_train_5       ምን አይነት ተንኮለኛ ነው ?\\tአጭር ሰው ግን የምር ተንኮለኛ ነው ?   \n",
       "\n",
       "   Score                                         Split_Text  \n",
       "0   0.88  [መግለጫውን የተከታተለው የአዲስ አበባው ዘጋቢያችን ሰሎሞን ሙጬ ዝርዝር ...  \n",
       "1   0.25  [የኛ ዴሞክራሲ የእንግሊዝ ስርዓት ነው ፤ ለጊዜው ሊያገለግል ይችላል ።\\...  \n",
       "2   0.36  [በዛሬው ጊዜ ከፍቅራዊ ደግነቱ መጠቀም የምንችለውስ እንዴት ነው ?\\tጥን...  \n",
       "3   0.27               [ግን ምን አይነት ቁልፍ ?\\tምን አይነት ፍቅር ነዉ ?]  \n",
       "4   0.56     [ምን አይነት ተንኮለኛ ነው ?\\tአጭር ሰው ግን የምር ተንኮለኛ ነው ?]  "
      ]
     },
     "execution_count": 3,
     "metadata": {},
     "output_type": "execute_result"
    }
   ],
   "source": [
    "df_str_rel['Split_Text'] = df_str_rel['Text'].apply(lambda x: x.split(\"\\n\"))\n",
    "df_str_rel.head()"
   ]
  },
  {
   "cell_type": "code",
   "execution_count": null,
   "metadata": {},
   "outputs": [],
   "source": [
    "from transformers import AutoModel, AutoTokenizer\n",
    "import torch\n",
    "from sklearn.metrics.pairwise import cosine_similarity\n",
    "\n",
    "# Load the AfriBERTa model and tokenizer\n",
    "model_name = \"castorini/afriberta_small\"\n",
    "tokenizer = AutoTokenizer.from_pretrained(model_name)\n",
    "model = AutoModel.from_pretrained(model_name)\n",
    "\n",
    "# Function to encode text and get embeddings\n",
    "def encode_text(text):\n",
    "    input_ids = tokenizer(text, return_tensors=\"pt\", padding=True, truncation=True)[\"input_ids\"]\n",
    "    with torch.no_grad():\n",
    "        embeddings = model(input_ids).last_hidden_state.mean(dim=1)  # Average pooling\n",
    "    return embeddings\n",
    "\n",
    "# Calculate cosine similarity between two sentence embeddings\n",
    "def calculate_similarity(sentence1, sentence2):\n",
    "    embeddings1 = encode_text(sentence1)\n",
    "    embeddings2 = encode_text(sentence2)\n",
    "    similarity = cosine_similarity(embeddings1, embeddings2)\n",
    "    return similarity[0][0]\n"
   ]
  },
  {
   "cell_type": "code",
   "execution_count": null,
   "metadata": {},
   "outputs": [],
   "source": [
    "true_scores = df_str_rel['Score'].values\n",
    "pred_scores = []\n",
    "\n",
    "for index,row in df_str_rel.iterrows():\n",
    "  s1,s2 = row[\"Text\"].split(\"\\n\")\n",
    "\n",
    "  # Overlap score\n",
    "  pred_scores.append(calculate_similarity(s1,s2))"
   ]
  },
  {
   "cell_type": "code",
   "execution_count": null,
   "metadata": {},
   "outputs": [],
   "source": [
    "print(\"Spearman Correlation:\", round(spearmanr(true_scores,pred_scores)[0],2))"
   ]
  }
 ],
 "metadata": {
  "kernelspec": {
   "display_name": "NLP",
   "language": "python",
   "name": "nlp"
  },
  "language_info": {
   "codemirror_mode": {
    "name": "ipython",
    "version": 3
   },
   "file_extension": ".py",
   "mimetype": "text/x-python",
   "name": "python",
   "nbconvert_exporter": "python",
   "pygments_lexer": "ipython3",
   "version": "3.11.5"
  }
 },
 "nbformat": 4,
 "nbformat_minor": 2
}
