{
 "cells": [
  {
   "cell_type": "code",
   "execution_count": 1,
   "metadata": {},
   "outputs": [],
   "source": [
    "import re\n",
    "import pandas as pd\n",
    "import numpy as np\n",
    "from scipy.stats import spearmanr, pearsonr\n",
    "import matplotlib.pyplot as plt\n",
    "plt.style.use('ggplot')"
   ]
  },
  {
   "cell_type": "code",
   "execution_count": 2,
   "metadata": {},
   "outputs": [
    {
     "data": {
      "text/html": [
       "<div>\n",
       "<style scoped>\n",
       "    .dataframe tbody tr th:only-of-type {\n",
       "        vertical-align: middle;\n",
       "    }\n",
       "\n",
       "    .dataframe tbody tr th {\n",
       "        vertical-align: top;\n",
       "    }\n",
       "\n",
       "    .dataframe thead th {\n",
       "        text-align: right;\n",
       "    }\n",
       "</style>\n",
       "<table border=\"1\" class=\"dataframe\">\n",
       "  <thead>\n",
       "    <tr style=\"text-align: right;\">\n",
       "      <th></th>\n",
       "      <th>PairID</th>\n",
       "      <th>Text</th>\n",
       "      <th>Score</th>\n",
       "    </tr>\n",
       "  </thead>\n",
       "  <tbody>\n",
       "    <tr>\n",
       "      <th>0</th>\n",
       "      <td>ENG-train-0000</td>\n",
       "      <td>It that happens, just pull the plug.\\nif that ...</td>\n",
       "      <td>1.0</td>\n",
       "    </tr>\n",
       "    <tr>\n",
       "      <th>1</th>\n",
       "      <td>ENG-train-0001</td>\n",
       "      <td>A black dog running through water.\\nA black do...</td>\n",
       "      <td>1.0</td>\n",
       "    </tr>\n",
       "    <tr>\n",
       "      <th>2</th>\n",
       "      <td>ENG-train-0002</td>\n",
       "      <td>I've been searchingthe entire abbey for you.\\n...</td>\n",
       "      <td>1.0</td>\n",
       "    </tr>\n",
       "    <tr>\n",
       "      <th>3</th>\n",
       "      <td>ENG-train-0003</td>\n",
       "      <td>If he is good looking and has a good personali...</td>\n",
       "      <td>1.0</td>\n",
       "    </tr>\n",
       "    <tr>\n",
       "      <th>4</th>\n",
       "      <td>ENG-train-0004</td>\n",
       "      <td>She does not hate you, she is just annoyed wit...</td>\n",
       "      <td>1.0</td>\n",
       "    </tr>\n",
       "  </tbody>\n",
       "</table>\n",
       "</div>"
      ],
      "text/plain": [
       "           PairID                                               Text  Score\n",
       "0  ENG-train-0000  It that happens, just pull the plug.\\nif that ...    1.0\n",
       "1  ENG-train-0001  A black dog running through water.\\nA black do...    1.0\n",
       "2  ENG-train-0002  I've been searchingthe entire abbey for you.\\n...    1.0\n",
       "3  ENG-train-0003  If he is good looking and has a good personali...    1.0\n",
       "4  ENG-train-0004  She does not hate you, she is just annoyed wit...    1.0"
      ]
     },
     "execution_count": 2,
     "metadata": {},
     "output_type": "execute_result"
    }
   ],
   "source": [
    "df_str_rel = pd.read_csv('C:\\\\Users\\\\ADMIN\\\\Downloads\\\\eng_train (1).csv')\n",
    "df_str_rel.head()"
   ]
  },
  {
   "cell_type": "code",
   "execution_count": 3,
   "metadata": {},
   "outputs": [
    {
     "data": {
      "text/html": [
       "<div>\n",
       "<style scoped>\n",
       "    .dataframe tbody tr th:only-of-type {\n",
       "        vertical-align: middle;\n",
       "    }\n",
       "\n",
       "    .dataframe tbody tr th {\n",
       "        vertical-align: top;\n",
       "    }\n",
       "\n",
       "    .dataframe thead th {\n",
       "        text-align: right;\n",
       "    }\n",
       "</style>\n",
       "<table border=\"1\" class=\"dataframe\">\n",
       "  <thead>\n",
       "    <tr style=\"text-align: right;\">\n",
       "      <th></th>\n",
       "      <th>PairID</th>\n",
       "      <th>Text</th>\n",
       "      <th>Score</th>\n",
       "      <th>Split_Text</th>\n",
       "    </tr>\n",
       "  </thead>\n",
       "  <tbody>\n",
       "    <tr>\n",
       "      <th>0</th>\n",
       "      <td>ENG-train-0000</td>\n",
       "      <td>It that happens, just pull the plug.\\nif that ...</td>\n",
       "      <td>1.0</td>\n",
       "      <td>[It that happens, just pull the plug., if that...</td>\n",
       "    </tr>\n",
       "    <tr>\n",
       "      <th>1</th>\n",
       "      <td>ENG-train-0001</td>\n",
       "      <td>A black dog running through water.\\nA black do...</td>\n",
       "      <td>1.0</td>\n",
       "      <td>[A black dog running through water., A black d...</td>\n",
       "    </tr>\n",
       "    <tr>\n",
       "      <th>2</th>\n",
       "      <td>ENG-train-0002</td>\n",
       "      <td>I've been searchingthe entire abbey for you.\\n...</td>\n",
       "      <td>1.0</td>\n",
       "      <td>[I've been searchingthe entire abbey for you.,...</td>\n",
       "    </tr>\n",
       "    <tr>\n",
       "      <th>3</th>\n",
       "      <td>ENG-train-0003</td>\n",
       "      <td>If he is good looking and has a good personali...</td>\n",
       "      <td>1.0</td>\n",
       "      <td>[If he is good looking and has a good personal...</td>\n",
       "    </tr>\n",
       "    <tr>\n",
       "      <th>4</th>\n",
       "      <td>ENG-train-0004</td>\n",
       "      <td>She does not hate you, she is just annoyed wit...</td>\n",
       "      <td>1.0</td>\n",
       "      <td>[She does not hate you, she is just annoyed wi...</td>\n",
       "    </tr>\n",
       "  </tbody>\n",
       "</table>\n",
       "</div>"
      ],
      "text/plain": [
       "           PairID                                               Text  Score  \\\n",
       "0  ENG-train-0000  It that happens, just pull the plug.\\nif that ...    1.0   \n",
       "1  ENG-train-0001  A black dog running through water.\\nA black do...    1.0   \n",
       "2  ENG-train-0002  I've been searchingthe entire abbey for you.\\n...    1.0   \n",
       "3  ENG-train-0003  If he is good looking and has a good personali...    1.0   \n",
       "4  ENG-train-0004  She does not hate you, she is just annoyed wit...    1.0   \n",
       "\n",
       "                                          Split_Text  \n",
       "0  [It that happens, just pull the plug., if that...  \n",
       "1  [A black dog running through water., A black d...  \n",
       "2  [I've been searchingthe entire abbey for you.,...  \n",
       "3  [If he is good looking and has a good personal...  \n",
       "4  [She does not hate you, she is just annoyed wi...  "
      ]
     },
     "execution_count": 3,
     "metadata": {},
     "output_type": "execute_result"
    }
   ],
   "source": [
    "df_str_rel['Split_Text'] = df_str_rel['Text'].apply(lambda x: x.split(\"\\n\"))\n",
    "df_str_rel.head()"
   ]
  },
  {
   "cell_type": "code",
   "execution_count": 4,
   "metadata": {},
   "outputs": [
    {
     "name": "stderr",
     "output_type": "stream",
     "text": [
      "Asking to truncate to max_length but no maximum length is provided and the model has no predefined maximum length. Default to no truncation.\n"
     ]
    },
    {
     "name": "stdout",
     "output_type": "stream",
     "text": [
      "Cosine Similarity: 0.9665\n"
     ]
    }
   ],
   "source": [
    "from transformers import AutoModel, AutoTokenizer\n",
    "import torch\n",
    "from sklearn.metrics.pairwise import cosine_similarity\n",
    "\n",
    "# Specify the model name or path\n",
    "model_name_or_path = \"ai4bharat/indic-bert\"\n",
    "\n",
    "# Load the IndicBERT model and tokenizer\n",
    "tokenizer = AutoTokenizer.from_pretrained(model_name_or_path)\n",
    "model = AutoModel.from_pretrained(model_name_or_path)\n",
    "\n",
    "# Function to encode text and get embeddings\n",
    "def encode_text(text):\n",
    "    input_ids = tokenizer(text, return_tensors=\"pt\", padding=True, truncation=True)[\"input_ids\"]\n",
    "    with torch.no_grad():\n",
    "        embeddings = model(input_ids).last_hidden_state.mean(dim=1)  # Average pooling\n",
    "    return embeddings\n",
    "\n",
    "# Calculate cosine similarity between two sentence embeddings\n",
    "def calculate_similarity(sentence1, sentence2):\n",
    "    embeddings1 = encode_text(sentence1)\n",
    "    embeddings2 = encode_text(sentence2)\n",
    "    similarity = cosine_similarity(embeddings1, embeddings2)\n",
    "    return similarity[0][0]\n",
    "\n",
    "sentence1 = \"This is the first sentence.\"\n",
    "sentence2 = \"This is the second sentence.\"\n",
    "\n",
    "similarity = calculate_similarity(sentence1, sentence2)\n",
    "print(f\"Cosine Similarity: {similarity:.4f}\")"
   ]
  },
  {
   "cell_type": "code",
   "execution_count": 5,
   "metadata": {},
   "outputs": [],
   "source": [
    "true_scores = df_str_rel['Score'].values\n",
    "pred_scores = []\n",
    "\n",
    "for index,row in df_str_rel.iterrows():\n",
    "  s1,s2 = row[\"Text\"].split(\"\\n\")\n",
    "\n",
    "  # Overlap score\n",
    "  pred_scores.append(calculate_similarity(s1,s2))"
   ]
  },
  {
   "cell_type": "code",
   "execution_count": 6,
   "metadata": {},
   "outputs": [
    {
     "name": "stdout",
     "output_type": "stream",
     "text": [
      "Spearman Correlation: 0.42\n"
     ]
    }
   ],
   "source": [
    "print(\"Spearman Correlation:\", round(spearmanr(true_scores,pred_scores)[0],2))"
   ]
  }
 ],
 "metadata": {
  "kernelspec": {
   "display_name": "NLP",
   "language": "python",
   "name": "nlp"
  },
  "language_info": {
   "codemirror_mode": {
    "name": "ipython",
    "version": 3
   },
   "file_extension": ".py",
   "mimetype": "text/x-python",
   "name": "python",
   "nbconvert_exporter": "python",
   "pygments_lexer": "ipython3",
   "version": "3.11.5"
  }
 },
 "nbformat": 4,
 "nbformat_minor": 2
}
