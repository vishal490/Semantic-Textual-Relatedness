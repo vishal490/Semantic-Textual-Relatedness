{
 "cells": [
  {
   "cell_type": "code",
   "execution_count": 2,
   "metadata": {},
   "outputs": [],
   "source": [
    "import re\n",
    "import pandas as pd\n",
    "import numpy as np\n",
    "from scipy.stats import spearmanr, pearsonr\n",
    "import matplotlib.pyplot as plt\n",
    "plt.style.use('ggplot')"
   ]
  },
  {
   "cell_type": "code",
   "execution_count": 3,
   "metadata": {},
   "outputs": [
    {
     "data": {
      "text/html": [
       "<div>\n",
       "<style scoped>\n",
       "    .dataframe tbody tr th:only-of-type {\n",
       "        vertical-align: middle;\n",
       "    }\n",
       "\n",
       "    .dataframe tbody tr th {\n",
       "        vertical-align: top;\n",
       "    }\n",
       "\n",
       "    .dataframe thead th {\n",
       "        text-align: right;\n",
       "    }\n",
       "</style>\n",
       "<table border=\"1\" class=\"dataframe\">\n",
       "  <thead>\n",
       "    <tr style=\"text-align: right;\">\n",
       "      <th></th>\n",
       "      <th>PairID</th>\n",
       "      <th>Text</th>\n",
       "      <th>Score</th>\n",
       "    </tr>\n",
       "  </thead>\n",
       "  <tbody>\n",
       "    <tr>\n",
       "      <th>0</th>\n",
       "      <td>TEL-train-00001</td>\n",
       "      <td>\"జమ్మూకాశ్మీర్లో మంచుకొండచరియలు విరిగిపడి గురు...</td>\n",
       "      <td>0.88</td>\n",
       "    </tr>\n",
       "    <tr>\n",
       "      <th>1</th>\n",
       "      <td>TEL-train-00002</td>\n",
       "      <td>\"కూతురుపైనే కన్నతండ్రి అత్యాచారానికి పాల్పడిన ...</td>\n",
       "      <td>0.87</td>\n",
       "    </tr>\n",
       "    <tr>\n",
       "      <th>2</th>\n",
       "      <td>TEL-train-00003</td>\n",
       "      <td>\"గంగా నదిని కాపాడేందుకు ప్రత్యేక చట్టం తీసుకుర...</td>\n",
       "      <td>0.87</td>\n",
       "    </tr>\n",
       "    <tr>\n",
       "      <th>3</th>\n",
       "      <td>TEL-train-00004</td>\n",
       "      <td>\"కరోనా వైరస్పై అమెరికా ప్రభుత్వానికి వ్యతిరేకం...</td>\n",
       "      <td>0.84</td>\n",
       "    </tr>\n",
       "    <tr>\n",
       "      <th>4</th>\n",
       "      <td>TEL-train-00005</td>\n",
       "      <td>\"కరోనా వైరస్ ( కొవిడ్ - 19 ) మనుషులపైనే కాదు జ...</td>\n",
       "      <td>0.84</td>\n",
       "    </tr>\n",
       "  </tbody>\n",
       "</table>\n",
       "</div>"
      ],
      "text/plain": [
       "            PairID                                               Text  Score\n",
       "0  TEL-train-00001  \"జమ్మూకాశ్మీర్లో మంచుకొండచరియలు విరిగిపడి గురు...   0.88\n",
       "1  TEL-train-00002  \"కూతురుపైనే కన్నతండ్రి అత్యాచారానికి పాల్పడిన ...   0.87\n",
       "2  TEL-train-00003  \"గంగా నదిని కాపాడేందుకు ప్రత్యేక చట్టం తీసుకుర...   0.87\n",
       "3  TEL-train-00004  \"కరోనా వైరస్పై అమెరికా ప్రభుత్వానికి వ్యతిరేకం...   0.84\n",
       "4  TEL-train-00005  \"కరోనా వైరస్ ( కొవిడ్ - 19 ) మనుషులపైనే కాదు జ...   0.84"
      ]
     },
     "execution_count": 3,
     "metadata": {},
     "output_type": "execute_result"
    }
   ],
   "source": [
    "df_str_rel = pd.read_csv('C:\\\\Users\\\\ADMIN\\\\Downloads\\\\tel_train.csv')\n",
    "df_str_rel.head()"
   ]
  },
  {
   "cell_type": "code",
   "execution_count": 4,
   "metadata": {},
   "outputs": [
    {
     "data": {
      "text/html": [
       "<div>\n",
       "<style scoped>\n",
       "    .dataframe tbody tr th:only-of-type {\n",
       "        vertical-align: middle;\n",
       "    }\n",
       "\n",
       "    .dataframe tbody tr th {\n",
       "        vertical-align: top;\n",
       "    }\n",
       "\n",
       "    .dataframe thead th {\n",
       "        text-align: right;\n",
       "    }\n",
       "</style>\n",
       "<table border=\"1\" class=\"dataframe\">\n",
       "  <thead>\n",
       "    <tr style=\"text-align: right;\">\n",
       "      <th></th>\n",
       "      <th>PairID</th>\n",
       "      <th>Text</th>\n",
       "      <th>Score</th>\n",
       "      <th>Split_Text</th>\n",
       "    </tr>\n",
       "  </thead>\n",
       "  <tbody>\n",
       "    <tr>\n",
       "      <th>0</th>\n",
       "      <td>TEL-train-00001</td>\n",
       "      <td>\"జమ్మూకాశ్మీర్లో మంచుకొండచరియలు విరిగిపడి గురు...</td>\n",
       "      <td>0.88</td>\n",
       "      <td>[\"జమ్మూకాశ్మీర్లో మంచుకొండచరియలు విరిగిపడి గుర...</td>\n",
       "    </tr>\n",
       "    <tr>\n",
       "      <th>1</th>\n",
       "      <td>TEL-train-00002</td>\n",
       "      <td>\"కూతురుపైనే కన్నతండ్రి అత్యాచారానికి పాల్పడిన ...</td>\n",
       "      <td>0.87</td>\n",
       "      <td>[\"కూతురుపైనే కన్నతండ్రి అత్యాచారానికి పాల్పడిన...</td>\n",
       "    </tr>\n",
       "    <tr>\n",
       "      <th>2</th>\n",
       "      <td>TEL-train-00003</td>\n",
       "      <td>\"గంగా నదిని కాపాడేందుకు ప్రత్యేక చట్టం తీసుకుర...</td>\n",
       "      <td>0.87</td>\n",
       "      <td>[\"గంగా నదిని కాపాడేందుకు ప్రత్యేక చట్టం తీసుకు...</td>\n",
       "    </tr>\n",
       "    <tr>\n",
       "      <th>3</th>\n",
       "      <td>TEL-train-00004</td>\n",
       "      <td>\"కరోనా వైరస్పై అమెరికా ప్రభుత్వానికి వ్యతిరేకం...</td>\n",
       "      <td>0.84</td>\n",
       "      <td>[\"కరోనా వైరస్పై అమెరికా ప్రభుత్వానికి వ్యతిరేక...</td>\n",
       "    </tr>\n",
       "    <tr>\n",
       "      <th>4</th>\n",
       "      <td>TEL-train-00005</td>\n",
       "      <td>\"కరోనా వైరస్ ( కొవిడ్ - 19 ) మనుషులపైనే కాదు జ...</td>\n",
       "      <td>0.84</td>\n",
       "      <td>[\"కరోనా వైరస్ ( కొవిడ్ - 19 ) మనుషులపైనే కాదు ...</td>\n",
       "    </tr>\n",
       "  </tbody>\n",
       "</table>\n",
       "</div>"
      ],
      "text/plain": [
       "            PairID                                               Text  Score  \\\n",
       "0  TEL-train-00001  \"జమ్మూకాశ్మీర్లో మంచుకొండచరియలు విరిగిపడి గురు...   0.88   \n",
       "1  TEL-train-00002  \"కూతురుపైనే కన్నతండ్రి అత్యాచారానికి పాల్పడిన ...   0.87   \n",
       "2  TEL-train-00003  \"గంగా నదిని కాపాడేందుకు ప్రత్యేక చట్టం తీసుకుర...   0.87   \n",
       "3  TEL-train-00004  \"కరోనా వైరస్పై అమెరికా ప్రభుత్వానికి వ్యతిరేకం...   0.84   \n",
       "4  TEL-train-00005  \"కరోనా వైరస్ ( కొవిడ్ - 19 ) మనుషులపైనే కాదు జ...   0.84   \n",
       "\n",
       "                                          Split_Text  \n",
       "0  [\"జమ్మూకాశ్మీర్లో మంచుకొండచరియలు విరిగిపడి గుర...  \n",
       "1  [\"కూతురుపైనే కన్నతండ్రి అత్యాచారానికి పాల్పడిన...  \n",
       "2  [\"గంగా నదిని కాపాడేందుకు ప్రత్యేక చట్టం తీసుకు...  \n",
       "3  [\"కరోనా వైరస్పై అమెరికా ప్రభుత్వానికి వ్యతిరేక...  \n",
       "4  [\"కరోనా వైరస్ ( కొవిడ్ - 19 ) మనుషులపైనే కాదు ...  "
      ]
     },
     "execution_count": 4,
     "metadata": {},
     "output_type": "execute_result"
    }
   ],
   "source": [
    "df_str_rel['Split_Text'] = df_str_rel['Text'].apply(lambda x: x.split(\"\\n\"))\n",
    "df_str_rel.head()"
   ]
  },
  {
   "cell_type": "code",
   "execution_count": 5,
   "metadata": {},
   "outputs": [
    {
     "name": "stderr",
     "output_type": "stream",
     "text": [
      "Asking to truncate to max_length but no maximum length is provided and the model has no predefined maximum length. Default to no truncation.\n"
     ]
    },
    {
     "name": "stdout",
     "output_type": "stream",
     "text": [
      "Cosine Similarity: 0.9665\n"
     ]
    }
   ],
   "source": [
    "from transformers import AutoModel, AutoTokenizer\n",
    "import torch\n",
    "from sklearn.metrics.pairwise import cosine_similarity\n",
    "\n",
    "# Specify the model name or path\n",
    "model_name_or_path = \"ai4bharat/indic-bert\"\n",
    "\n",
    "# Load the IndicBERT model and tokenizer\n",
    "tokenizer = AutoTokenizer.from_pretrained(model_name_or_path)\n",
    "model = AutoModel.from_pretrained(model_name_or_path)\n",
    "\n",
    "# Function to encode text and get embeddings\n",
    "def encode_text(text):\n",
    "    input_ids = tokenizer(text, return_tensors=\"pt\", padding=True, truncation=True)[\"input_ids\"]\n",
    "    with torch.no_grad():\n",
    "        embeddings = model(input_ids).last_hidden_state.mean(dim=1)  # Average pooling\n",
    "    return embeddings\n",
    "\n",
    "# Calculate cosine similarity between two sentence embeddings\n",
    "def calculate_similarity(sentence1, sentence2):\n",
    "    embeddings1 = encode_text(sentence1)\n",
    "    embeddings2 = encode_text(sentence2)\n",
    "    similarity = cosine_similarity(embeddings1, embeddings2)\n",
    "    return similarity[0][0]\n",
    "\n",
    "sentence1 = \"This is the first sentence.\"\n",
    "sentence2 = \"This is the second sentence.\"\n",
    "\n",
    "similarity = calculate_similarity(sentence1, sentence2)\n",
    "print(f\"Cosine Similarity: {similarity:.4f}\")"
   ]
  },
  {
   "cell_type": "code",
   "execution_count": 6,
   "metadata": {},
   "outputs": [],
   "source": [
    "true_scores = df_str_rel['Score'].values\n",
    "pred_scores = []\n",
    "\n",
    "for index,row in df_str_rel.iterrows():\n",
    "  s1,s2 = row[\"Text\"].split(\"\\n\")\n",
    "\n",
    "  # Overlap score\n",
    "  pred_scores.append(calculate_similarity(s1,s2))"
   ]
  },
  {
   "cell_type": "code",
   "execution_count": 7,
   "metadata": {},
   "outputs": [
    {
     "name": "stdout",
     "output_type": "stream",
     "text": [
      "Spearman Correlation: 0.45\n"
     ]
    }
   ],
   "source": [
    "print(\"Spearman Correlation:\", round(spearmanr(true_scores,pred_scores)[0],2))"
   ]
  }
 ],
 "metadata": {
  "kernelspec": {
   "display_name": "NLP",
   "language": "python",
   "name": "nlp"
  },
  "language_info": {
   "codemirror_mode": {
    "name": "ipython",
    "version": 3
   },
   "file_extension": ".py",
   "mimetype": "text/x-python",
   "name": "python",
   "nbconvert_exporter": "python",
   "pygments_lexer": "ipython3",
   "version": "3.11.5"
  }
 },
 "nbformat": 4,
 "nbformat_minor": 2
}
